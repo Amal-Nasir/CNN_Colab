{
  "cells": [
    {
      "cell_type": "markdown",
      "metadata": {
        "id": "view-in-github",
        "colab_type": "text"
      },
      "source": [
        "<a href=\"https://colab.research.google.com/github/Amal-Nasir/CNN_Colab/blob/main/CNN_Spic_SVM.ipynb\" target=\"_parent\"><img src=\"https://colab.research.google.com/assets/colab-badge.svg\" alt=\"Open In Colab\"/></a>"
      ]
    },
    {
      "cell_type": "code",
      "execution_count": null,
      "metadata": {
        "colab": {
          "base_uri": "https://localhost:8080/"
        },
        "id": "iapjMoGoR5U3",
        "outputId": "41c97e97-9289-4b59-e2bb-1d6c40e931ef"
      },
      "outputs": [
        {
          "output_type": "stream",
          "name": "stdout",
          "text": [
            "Mounted at /content/drive\n"
          ]
        }
      ],
      "source": [
        "from google.colab import drive\n",
        "drive.mount('/content/drive')"
      ]
    },
    {
      "cell_type": "code",
      "execution_count": null,
      "metadata": {
        "colab": {
          "base_uri": "https://localhost:8080/"
        },
        "id": "_ulkz4_55ZYO",
        "outputId": "dd753949-2842-4c4b-8554-2793224301d3"
      },
      "outputs": [
        {
          "output_type": "stream",
          "name": "stdout",
          "text": [
            "/\n"
          ]
        }
      ],
      "source": [
        "cd .."
      ]
    },
    {
      "cell_type": "code",
      "execution_count": null,
      "metadata": {
        "colab": {
          "base_uri": "https://localhost:8080/"
        },
        "id": "xBss2yWg5aNV",
        "outputId": "c8812c44-2a5f-4d0e-d9a6-bc5b738a43d0"
      },
      "outputs": [
        {
          "output_type": "stream",
          "name": "stdout",
          "text": [
            "/content/drive/MyDrive/MedIx REU/Datasets\n"
          ]
        }
      ],
      "source": [
        "cd content/drive/MyDrive/MedIx\\ REU/Datasets"
      ]
    },
    {
      "cell_type": "code",
      "execution_count": null,
      "metadata": {
        "id": "EOM6ZwEeZAAT"
      },
      "outputs": [],
      "source": [
        "from __future__ import absolute_import\n",
        "from __future__ import print_function\n",
        "import tensorflow as tf\n",
        "import numpy as np  # linear alg\n",
        "import pandas as pd  # data processing, CSV file I/O (e.g. pd.read_csv)\n",
        "import random\n",
        "import keras\n",
        "import matplotlib.pyplot as plt\n",
        "from keras.models import Model\n",
        "from keras.layers import Input, Flatten, Dense, Dropout, Lambda\n",
        "from keras import backend as K\n",
        "from sklearn.metrics import confusion_matrix\n",
        "from sklearn.model_selection import train_test_split # for splitting the data into train and test samples\n",
        "from sklearn.metrics import classification_report # for model evaluation metrics\n",
        "from sklearn.svm import SVC # for Support Vector Classification model\n",
        "import os\n",
        "from os import path"
      ]
    },
    {
      "cell_type": "code",
      "execution_count": null,
      "metadata": {
        "id": "U6Y50Yu9cZuN"
      },
      "outputs": [],
      "source": [
        "##### Import Trained Model #####\n",
        "model = keras.models.load_model(\"/content/drive/MyDrive/MedIx REU/Datasets/Amal/CNN/Spiculation/CNN_model_All\" , compile = True)"
      ]
    },
    {
      "cell_type": "code",
      "execution_count": null,
      "metadata": {
        "colab": {
          "base_uri": "https://localhost:8080/"
        },
        "id": "_i3_1XSVAYgG",
        "outputId": "8a77563b-85ff-4fac-f409-907f483472fc"
      },
      "outputs": [
        {
          "output_type": "stream",
          "name": "stdout",
          "text": [
            "Model: \"sequential\"\n",
            "_________________________________________________________________\n",
            " Layer (type)                Output Shape              Param #   \n",
            "=================================================================\n",
            " conv2d (Conv2D)             (None, 69, 69, 32)        320       \n",
            "                                                                 \n",
            " max_pooling2d (MaxPooling2D  (None, 34, 34, 32)       0         \n",
            " )                                                               \n",
            "                                                                 \n",
            " conv2d_1 (Conv2D)           (None, 32, 32, 64)        18496     \n",
            "                                                                 \n",
            " max_pooling2d_1 (MaxPooling  (None, 16, 16, 64)       0         \n",
            " 2D)                                                             \n",
            "                                                                 \n",
            " conv2d_2 (Conv2D)           (None, 14, 14, 64)        36928     \n",
            "                                                                 \n",
            " flatten (Flatten)           (None, 12544)             0         \n",
            "                                                                 \n",
            " dense (Dense)               (None, 512)               6423040   \n",
            "                                                                 \n",
            " dense_1 (Dense)             (None, 2)                 1026      \n",
            "                                                                 \n",
            "=================================================================\n",
            "Total params: 6,479,810\n",
            "Trainable params: 6,479,810\n",
            "Non-trainable params: 0\n",
            "_________________________________________________________________\n"
          ]
        }
      ],
      "source": [
        "model.summary()"
      ]
    },
    {
      "cell_type": "code",
      "execution_count": null,
      "metadata": {
        "id": "QPu9bi7Vtk-Z"
      },
      "outputs": [],
      "source": [
        "feature_extractor = keras.Model(\n",
        "    inputs=model.inputs,\n",
        "    outputs=model.get_layer(name=\"flatten\").output)"
      ]
    },
    {
      "cell_type": "code",
      "execution_count": null,
      "metadata": {
        "colab": {
          "base_uri": "https://localhost:8080/"
        },
        "id": "mIC87zZNtsG7",
        "outputId": "dab12bd5-bea2-46f4-b248-763984d5e704"
      },
      "outputs": [
        {
          "output_type": "stream",
          "name": "stdout",
          "text": [
            "Model: \"model\"\n",
            "_________________________________________________________________\n",
            " Layer (type)                Output Shape              Param #   \n",
            "=================================================================\n",
            " conv2d_input (InputLayer)   [(None, 71, 71, 1)]       0         \n",
            "                                                                 \n",
            " conv2d (Conv2D)             (None, 69, 69, 32)        320       \n",
            "                                                                 \n",
            " max_pooling2d (MaxPooling2D  (None, 34, 34, 32)       0         \n",
            " )                                                               \n",
            "                                                                 \n",
            " conv2d_1 (Conv2D)           (None, 32, 32, 64)        18496     \n",
            "                                                                 \n",
            " max_pooling2d_1 (MaxPooling  (None, 16, 16, 64)       0         \n",
            " 2D)                                                             \n",
            "                                                                 \n",
            " conv2d_2 (Conv2D)           (None, 14, 14, 64)        36928     \n",
            "                                                                 \n",
            " flatten (Flatten)           (None, 12544)             0         \n",
            "                                                                 \n",
            "=================================================================\n",
            "Total params: 55,744\n",
            "Trainable params: 55,744\n",
            "Non-trainable params: 0\n",
            "_________________________________________________________________\n"
          ]
        }
      ],
      "source": [
        "feature_extractor.summary()"
      ]
    },
    {
      "cell_type": "code",
      "execution_count": null,
      "metadata": {
        "id": "HdHT8Nc1Rv7C"
      },
      "outputs": [],
      "source": [
        "def getNormed(this_array, this_min = 0, this_max = 255, set_to_int = True):\n",
        "    new_var = this_array.copy()\n",
        "    rat = (this_max - this_min)/(new_var.max() - new_var.min())\n",
        "    new_var = new_var * rat\n",
        "    new_var -= new_var.min()\n",
        "    new_var += this_min\n",
        "    if set_to_int:\n",
        "        return new_var.astype('uint8')\n",
        "    return new_var"
      ]
    },
    {
      "cell_type": "code",
      "source": [
        "training_data = pd.read_csv(\"/content/drive/MyDrive/MedIx REU/Datasets/Amal/CNN/Spiculation/training_2class.csv\")\n",
        "testing_data = pd.read_csv(\"/content/drive/MyDrive/MedIx REU/Datasets/Amal/CNN/Spiculation/test_2class.csv\")"
      ],
      "metadata": {
        "id": "zOXX1hpkBHW5"
      },
      "execution_count": null,
      "outputs": []
    },
    {
      "cell_type": "code",
      "source": [
        "train_nodIds = np.array(training_data['noduleID'])\n",
        "test_nodIds = np.array(testing_data['noduleID'])"
      ],
      "metadata": {
        "id": "rXRBJL-lBGdS"
      },
      "execution_count": null,
      "outputs": []
    },
    {
      "cell_type": "code",
      "execution_count": null,
      "metadata": {
        "colab": {
          "base_uri": "https://localhost:8080/"
        },
        "id": "rOc50noJNm82",
        "outputId": "8188904b-3082-410f-fc1f-8ccf1911424e"
      },
      "outputs": [
        {
          "output_type": "stream",
          "name": "stdout",
          "text": [
            "/content/drive/MyDrive/MedIx REU/Datasets/Amal/images_1332\n",
            "/content/drive/MyDrive/MedIx REU/Datasets/Amal/images_1332\n",
            "Malignancy_5\n",
            "Malignancy_1\n",
            "Malignancy_4\n",
            "Malignancy_2\n",
            "Malignancy_3\n"
          ]
        }
      ],
      "source": [
        "total = pd.read_csv(\"/content/drive/MyDrive/MedIx REU/Datasets/Amal/CNN/Spiculation/Agreement_Binary_Rating.csv\")\n",
        "total_nod = total['noduleID']\n",
        "total_nod = np.array(total_nod)\n",
        "\n",
        "image_folder = '/content/drive/MyDrive/MedIx REU/Datasets/Amal/images_1332'\n",
        "train_images = []\n",
        "train_noduleId = []\n",
        "print(image_folder)\n",
        "\n",
        "'''for dir1 in os.listdir(image_folder):\n",
        "    print(dir1)\n",
        "    if not dir1.startswith('.'):\n",
        "        for file in os.listdir(os.path.join(image_folder, dir1)):\n",
        "            #print(file)\n",
        "            noduleID = file.split('.')[0]\n",
        "            if not file.startswith('.'):\n",
        "                noduleID = int(noduleID)\n",
        "                train_noduleId.append(noduleID)\n",
        "                temp_image = np.loadtxt(os.path.join(image_folder, dir1,file))\n",
        "                temp_image = getNormed(temp_image)\n",
        "                train_images.append(temp_image)'''\n",
        "\n",
        "train_images = []\n",
        "val_images = []\n",
        "test_images = []\n",
        "train_noduleId = []\n",
        "val_noduleId = []\n",
        "test_noduleId = []\n",
        "print(image_folder)\n",
        "\n",
        "for dir1 in os.listdir(image_folder):\n",
        "    print(dir1)\n",
        "    if not dir1.startswith('.'):\n",
        "        for file in os.listdir(os.path.join(image_folder, dir1)):\n",
        "            #print(file)\n",
        "            noduleID = file.split('.')[0]\n",
        "            if not file.startswith('.'):\n",
        "                noduleID = int(noduleID)\n",
        "                if noduleID in train_nodIds:\n",
        "                    train_noduleId.append(noduleID)\n",
        "                    temp_image = np.loadtxt(os.path.join(image_folder, dir1,file))\n",
        "                    temp_image = getNormed(temp_image)\n",
        "                    #enlarged_img = getSamePadding(temp_image)\n",
        "                    train_images.append(temp_image)\n",
        "\n",
        "                if noduleID in test_nodIds:\n",
        "                    test_noduleId.append(noduleID)\n",
        "                    temp_image = np.loadtxt(os.path.join(image_folder, dir1,file))\n",
        "                    temp_image = getNormed(temp_image)\n",
        "                    test_images.append(temp_image)"
      ]
    },
    {
      "cell_type": "code",
      "source": [
        "print(len(train_noduleId))\n",
        "print(len(test_noduleId))"
      ],
      "metadata": {
        "colab": {
          "base_uri": "https://localhost:8080/"
        },
        "id": "DUUAApA-FVTR",
        "outputId": "bad8f793-4c30-4e6b-e9c7-dbc163587d58"
      },
      "execution_count": null,
      "outputs": [
        {
          "output_type": "stream",
          "name": "stdout",
          "text": [
            "1066\n",
            "266\n"
          ]
        }
      ]
    },
    {
      "cell_type": "code",
      "execution_count": null,
      "metadata": {
        "colab": {
          "base_uri": "https://localhost:8080/"
        },
        "id": "kuR0NbKkOSxl",
        "outputId": "127d626f-dcb0-43fe-cf88-923452080c55"
      },
      "outputs": [
        {
          "output_type": "stream",
          "name": "stdout",
          "text": [
            "      noduleID\n",
            "0          324\n",
            "1         1888\n",
            "2         1606\n",
            "3         1427\n",
            "4         1760\n",
            "...        ...\n",
            "1061       285\n",
            "1062       389\n",
            "1063      2301\n",
            "1064      1772\n",
            "1065      2540\n",
            "\n",
            "[1066 rows x 1 columns]\n"
          ]
        }
      ],
      "source": [
        "tr_df = pd.DataFrame(train_noduleId,columns =['noduleID'])\n",
        "print(tr_df)"
      ]
    },
    {
      "cell_type": "code",
      "execution_count": null,
      "metadata": {
        "colab": {
          "base_uri": "https://localhost:8080/",
          "height": 650
        },
        "id": "86eRqxN2OUqG",
        "outputId": "7a45ef54-591e-44a5-91cb-0eb9e5c0aa09"
      },
      "outputs": [
        {
          "output_type": "display_data",
          "data": {
            "text/plain": [
              "      noduleID  Unnamed: 0  InstanceID  Dataset  Binary Rating  Bin_Rating  \\\n",
              "0          324         177        4732        1              2           2   \n",
              "1         1888         972       28743        1              2           2   \n",
              "2         1606         859       24119        1              2           2   \n",
              "3         1427         775       21366        2              1           1   \n",
              "4         1760         922       26447        2              1           1   \n",
              "...        ...         ...         ...      ...            ...         ...   \n",
              "1061       285         159        4134        2              1           1   \n",
              "1062       389         217        5683        1              2           2   \n",
              "1063      2301        1162       35200        2              0           0   \n",
              "1064      1772         929       26626        1              2           2   \n",
              "1065      2540        1274       38933        1              2           2   \n",
              "\n",
              "     Binary_Rating_name  Agreement              Agreement_name  Two_Agreement  \\\n",
              "0               Unknown          1   Low Radiologist Agreement              0   \n",
              "1               Unknown          1   Low Radiologist Agreement              0   \n",
              "2               Unknown          1   Low Radiologist Agreement              0   \n",
              "3            Spiculated          2  High Radiologist Agreement              1   \n",
              "4            Spiculated          3   All Radiologist Agreement              1   \n",
              "...                 ...        ...                         ...            ...   \n",
              "1061         Spiculated          2  High Radiologist Agreement              1   \n",
              "1062            Unknown          1   Low Radiologist Agreement              0   \n",
              "1063     Not Spiculated          2  High Radiologist Agreement              1   \n",
              "1064            Unknown          1   Low Radiologist Agreement              0   \n",
              "1065            Unknown          1   Low Radiologist Agreement              0   \n",
              "\n",
              "     Two_Agreement_name  Category  \n",
              "0                Low_No  Low/None  \n",
              "1                Low_No  Low/None  \n",
              "2                Low_No  Low/None  \n",
              "3             Full_High  Training  \n",
              "4             Full_High  Training  \n",
              "...                 ...       ...  \n",
              "1061          Full_High  Training  \n",
              "1062             Low_No  Low/None  \n",
              "1063          Full_High  Training  \n",
              "1064             Low_No  Low/None  \n",
              "1065             Low_No  Low/None  \n",
              "\n",
              "[1066 rows x 12 columns]"
            ],
            "text/html": [
              "\n",
              "  <div id=\"df-5492637a-edc4-43ef-984a-fd46cf00b80d\">\n",
              "    <div class=\"colab-df-container\">\n",
              "      <div>\n",
              "<style scoped>\n",
              "    .dataframe tbody tr th:only-of-type {\n",
              "        vertical-align: middle;\n",
              "    }\n",
              "\n",
              "    .dataframe tbody tr th {\n",
              "        vertical-align: top;\n",
              "    }\n",
              "\n",
              "    .dataframe thead th {\n",
              "        text-align: right;\n",
              "    }\n",
              "</style>\n",
              "<table border=\"1\" class=\"dataframe\">\n",
              "  <thead>\n",
              "    <tr style=\"text-align: right;\">\n",
              "      <th></th>\n",
              "      <th>noduleID</th>\n",
              "      <th>Unnamed: 0</th>\n",
              "      <th>InstanceID</th>\n",
              "      <th>Dataset</th>\n",
              "      <th>Binary Rating</th>\n",
              "      <th>Bin_Rating</th>\n",
              "      <th>Binary_Rating_name</th>\n",
              "      <th>Agreement</th>\n",
              "      <th>Agreement_name</th>\n",
              "      <th>Two_Agreement</th>\n",
              "      <th>Two_Agreement_name</th>\n",
              "      <th>Category</th>\n",
              "    </tr>\n",
              "  </thead>\n",
              "  <tbody>\n",
              "    <tr>\n",
              "      <th>0</th>\n",
              "      <td>324</td>\n",
              "      <td>177</td>\n",
              "      <td>4732</td>\n",
              "      <td>1</td>\n",
              "      <td>2</td>\n",
              "      <td>2</td>\n",
              "      <td>Unknown</td>\n",
              "      <td>1</td>\n",
              "      <td>Low Radiologist Agreement</td>\n",
              "      <td>0</td>\n",
              "      <td>Low_No</td>\n",
              "      <td>Low/None</td>\n",
              "    </tr>\n",
              "    <tr>\n",
              "      <th>1</th>\n",
              "      <td>1888</td>\n",
              "      <td>972</td>\n",
              "      <td>28743</td>\n",
              "      <td>1</td>\n",
              "      <td>2</td>\n",
              "      <td>2</td>\n",
              "      <td>Unknown</td>\n",
              "      <td>1</td>\n",
              "      <td>Low Radiologist Agreement</td>\n",
              "      <td>0</td>\n",
              "      <td>Low_No</td>\n",
              "      <td>Low/None</td>\n",
              "    </tr>\n",
              "    <tr>\n",
              "      <th>2</th>\n",
              "      <td>1606</td>\n",
              "      <td>859</td>\n",
              "      <td>24119</td>\n",
              "      <td>1</td>\n",
              "      <td>2</td>\n",
              "      <td>2</td>\n",
              "      <td>Unknown</td>\n",
              "      <td>1</td>\n",
              "      <td>Low Radiologist Agreement</td>\n",
              "      <td>0</td>\n",
              "      <td>Low_No</td>\n",
              "      <td>Low/None</td>\n",
              "    </tr>\n",
              "    <tr>\n",
              "      <th>3</th>\n",
              "      <td>1427</td>\n",
              "      <td>775</td>\n",
              "      <td>21366</td>\n",
              "      <td>2</td>\n",
              "      <td>1</td>\n",
              "      <td>1</td>\n",
              "      <td>Spiculated</td>\n",
              "      <td>2</td>\n",
              "      <td>High Radiologist Agreement</td>\n",
              "      <td>1</td>\n",
              "      <td>Full_High</td>\n",
              "      <td>Training</td>\n",
              "    </tr>\n",
              "    <tr>\n",
              "      <th>4</th>\n",
              "      <td>1760</td>\n",
              "      <td>922</td>\n",
              "      <td>26447</td>\n",
              "      <td>2</td>\n",
              "      <td>1</td>\n",
              "      <td>1</td>\n",
              "      <td>Spiculated</td>\n",
              "      <td>3</td>\n",
              "      <td>All Radiologist Agreement</td>\n",
              "      <td>1</td>\n",
              "      <td>Full_High</td>\n",
              "      <td>Training</td>\n",
              "    </tr>\n",
              "    <tr>\n",
              "      <th>...</th>\n",
              "      <td>...</td>\n",
              "      <td>...</td>\n",
              "      <td>...</td>\n",
              "      <td>...</td>\n",
              "      <td>...</td>\n",
              "      <td>...</td>\n",
              "      <td>...</td>\n",
              "      <td>...</td>\n",
              "      <td>...</td>\n",
              "      <td>...</td>\n",
              "      <td>...</td>\n",
              "      <td>...</td>\n",
              "    </tr>\n",
              "    <tr>\n",
              "      <th>1061</th>\n",
              "      <td>285</td>\n",
              "      <td>159</td>\n",
              "      <td>4134</td>\n",
              "      <td>2</td>\n",
              "      <td>1</td>\n",
              "      <td>1</td>\n",
              "      <td>Spiculated</td>\n",
              "      <td>2</td>\n",
              "      <td>High Radiologist Agreement</td>\n",
              "      <td>1</td>\n",
              "      <td>Full_High</td>\n",
              "      <td>Training</td>\n",
              "    </tr>\n",
              "    <tr>\n",
              "      <th>1062</th>\n",
              "      <td>389</td>\n",
              "      <td>217</td>\n",
              "      <td>5683</td>\n",
              "      <td>1</td>\n",
              "      <td>2</td>\n",
              "      <td>2</td>\n",
              "      <td>Unknown</td>\n",
              "      <td>1</td>\n",
              "      <td>Low Radiologist Agreement</td>\n",
              "      <td>0</td>\n",
              "      <td>Low_No</td>\n",
              "      <td>Low/None</td>\n",
              "    </tr>\n",
              "    <tr>\n",
              "      <th>1063</th>\n",
              "      <td>2301</td>\n",
              "      <td>1162</td>\n",
              "      <td>35200</td>\n",
              "      <td>2</td>\n",
              "      <td>0</td>\n",
              "      <td>0</td>\n",
              "      <td>Not Spiculated</td>\n",
              "      <td>2</td>\n",
              "      <td>High Radiologist Agreement</td>\n",
              "      <td>1</td>\n",
              "      <td>Full_High</td>\n",
              "      <td>Training</td>\n",
              "    </tr>\n",
              "    <tr>\n",
              "      <th>1064</th>\n",
              "      <td>1772</td>\n",
              "      <td>929</td>\n",
              "      <td>26626</td>\n",
              "      <td>1</td>\n",
              "      <td>2</td>\n",
              "      <td>2</td>\n",
              "      <td>Unknown</td>\n",
              "      <td>1</td>\n",
              "      <td>Low Radiologist Agreement</td>\n",
              "      <td>0</td>\n",
              "      <td>Low_No</td>\n",
              "      <td>Low/None</td>\n",
              "    </tr>\n",
              "    <tr>\n",
              "      <th>1065</th>\n",
              "      <td>2540</td>\n",
              "      <td>1274</td>\n",
              "      <td>38933</td>\n",
              "      <td>1</td>\n",
              "      <td>2</td>\n",
              "      <td>2</td>\n",
              "      <td>Unknown</td>\n",
              "      <td>1</td>\n",
              "      <td>Low Radiologist Agreement</td>\n",
              "      <td>0</td>\n",
              "      <td>Low_No</td>\n",
              "      <td>Low/None</td>\n",
              "    </tr>\n",
              "  </tbody>\n",
              "</table>\n",
              "<p>1066 rows × 12 columns</p>\n",
              "</div>\n",
              "      <button class=\"colab-df-convert\" onclick=\"convertToInteractive('df-5492637a-edc4-43ef-984a-fd46cf00b80d')\"\n",
              "              title=\"Convert this dataframe to an interactive table.\"\n",
              "              style=\"display:none;\">\n",
              "        \n",
              "  <svg xmlns=\"http://www.w3.org/2000/svg\" height=\"24px\"viewBox=\"0 0 24 24\"\n",
              "       width=\"24px\">\n",
              "    <path d=\"M0 0h24v24H0V0z\" fill=\"none\"/>\n",
              "    <path d=\"M18.56 5.44l.94 2.06.94-2.06 2.06-.94-2.06-.94-.94-2.06-.94 2.06-2.06.94zm-11 1L8.5 8.5l.94-2.06 2.06-.94-2.06-.94L8.5 2.5l-.94 2.06-2.06.94zm10 10l.94 2.06.94-2.06 2.06-.94-2.06-.94-.94-2.06-.94 2.06-2.06.94z\"/><path d=\"M17.41 7.96l-1.37-1.37c-.4-.4-.92-.59-1.43-.59-.52 0-1.04.2-1.43.59L10.3 9.45l-7.72 7.72c-.78.78-.78 2.05 0 2.83L4 21.41c.39.39.9.59 1.41.59.51 0 1.02-.2 1.41-.59l7.78-7.78 2.81-2.81c.8-.78.8-2.07 0-2.86zM5.41 20L4 18.59l7.72-7.72 1.47 1.35L5.41 20z\"/>\n",
              "  </svg>\n",
              "      </button>\n",
              "      \n",
              "  <style>\n",
              "    .colab-df-container {\n",
              "      display:flex;\n",
              "      flex-wrap:wrap;\n",
              "      gap: 12px;\n",
              "    }\n",
              "\n",
              "    .colab-df-convert {\n",
              "      background-color: #E8F0FE;\n",
              "      border: none;\n",
              "      border-radius: 50%;\n",
              "      cursor: pointer;\n",
              "      display: none;\n",
              "      fill: #1967D2;\n",
              "      height: 32px;\n",
              "      padding: 0 0 0 0;\n",
              "      width: 32px;\n",
              "    }\n",
              "\n",
              "    .colab-df-convert:hover {\n",
              "      background-color: #E2EBFA;\n",
              "      box-shadow: 0px 1px 2px rgba(60, 64, 67, 0.3), 0px 1px 3px 1px rgba(60, 64, 67, 0.15);\n",
              "      fill: #174EA6;\n",
              "    }\n",
              "\n",
              "    [theme=dark] .colab-df-convert {\n",
              "      background-color: #3B4455;\n",
              "      fill: #D2E3FC;\n",
              "    }\n",
              "\n",
              "    [theme=dark] .colab-df-convert:hover {\n",
              "      background-color: #434B5C;\n",
              "      box-shadow: 0px 1px 3px 1px rgba(0, 0, 0, 0.15);\n",
              "      filter: drop-shadow(0px 1px 2px rgba(0, 0, 0, 0.3));\n",
              "      fill: #FFFFFF;\n",
              "    }\n",
              "  </style>\n",
              "\n",
              "      <script>\n",
              "        const buttonEl =\n",
              "          document.querySelector('#df-5492637a-edc4-43ef-984a-fd46cf00b80d button.colab-df-convert');\n",
              "        buttonEl.style.display =\n",
              "          google.colab.kernel.accessAllowed ? 'block' : 'none';\n",
              "\n",
              "        async function convertToInteractive(key) {\n",
              "          const element = document.querySelector('#df-5492637a-edc4-43ef-984a-fd46cf00b80d');\n",
              "          const dataTable =\n",
              "            await google.colab.kernel.invokeFunction('convertToInteractive',\n",
              "                                                     [key], {});\n",
              "          if (!dataTable) return;\n",
              "\n",
              "          const docLinkHtml = 'Like what you see? Visit the ' +\n",
              "            '<a target=\"_blank\" href=https://colab.research.google.com/notebooks/data_table.ipynb>data table notebook</a>'\n",
              "            + ' to learn more about interactive tables.';\n",
              "          element.innerHTML = '';\n",
              "          dataTable['output_type'] = 'display_data';\n",
              "          await google.colab.output.renderOutput(dataTable, element);\n",
              "          const docLink = document.createElement('div');\n",
              "          docLink.innerHTML = docLinkHtml;\n",
              "          element.appendChild(docLink);\n",
              "        }\n",
              "      </script>\n",
              "    </div>\n",
              "  </div>\n",
              "  "
            ]
          },
          "metadata": {}
        }
      ],
      "source": [
        "train_slices = pd.merge(tr_df, training_data)\n",
        "display(train_slices)"
      ]
    },
    {
      "cell_type": "code",
      "source": [
        "te_df = pd.DataFrame(test_noduleId,columns =['noduleID'])\n",
        "print(te_df)"
      ],
      "metadata": {
        "colab": {
          "base_uri": "https://localhost:8080/"
        },
        "id": "CZAQsHBjF383",
        "outputId": "14f58433-a507-4ef2-9706-cf5c82c76d29"
      },
      "execution_count": null,
      "outputs": [
        {
          "output_type": "stream",
          "name": "stdout",
          "text": [
            "     noduleID\n",
            "0        2600\n",
            "1        2000\n",
            "2          53\n",
            "3        1965\n",
            "4        1088\n",
            "..        ...\n",
            "261       916\n",
            "262      1998\n",
            "263        72\n",
            "264      2583\n",
            "265       231\n",
            "\n",
            "[266 rows x 1 columns]\n"
          ]
        }
      ]
    },
    {
      "cell_type": "code",
      "source": [
        "test_slices = pd.merge(te_df, testing_data)\n",
        "display(test_slices)"
      ],
      "metadata": {
        "colab": {
          "base_uri": "https://localhost:8080/",
          "height": 650
        },
        "id": "i23fZ_i2F8SU",
        "outputId": "9b11ef54-2e5a-424a-b9db-712255b7103d"
      },
      "execution_count": null,
      "outputs": [
        {
          "output_type": "display_data",
          "data": {
            "text/plain": [
              "     noduleID  Unnamed: 0  InstanceID  Dataset  Binary Rating  Bin_Rating  \\\n",
              "0        2600        1302       39904        1              2           2   \n",
              "1        2000        1020       30093        2              0           0   \n",
              "2          53          30         695        1              2           2   \n",
              "3        1965        1005       29654        1              2           2   \n",
              "4        1088         606       15957        1              2           2   \n",
              "..        ...         ...         ...      ...            ...         ...   \n",
              "261       916         516       13388        2              0           0   \n",
              "262      1998        1019       30087        2              0           0   \n",
              "263        72          42        1042        2              0           0   \n",
              "264      2583        1292       39596        2              0           0   \n",
              "265       231         134        3308        2              1           1   \n",
              "\n",
              "    Binary_Rating_name  Agreement              Agreement_name  Two_Agreement  \\\n",
              "0              Unknown          1   Low Radiologist Agreement              0   \n",
              "1       Not Spiculated          3   All Radiologist Agreement              1   \n",
              "2              Unknown          1   Low Radiologist Agreement              0   \n",
              "3              Unknown          1   Low Radiologist Agreement              0   \n",
              "4              Unknown          1   Low Radiologist Agreement              0   \n",
              "..                 ...        ...                         ...            ...   \n",
              "261     Not Spiculated          3   All Radiologist Agreement              1   \n",
              "262     Not Spiculated          2  High Radiologist Agreement              1   \n",
              "263     Not Spiculated          2  High Radiologist Agreement              1   \n",
              "264     Not Spiculated          2  High Radiologist Agreement              1   \n",
              "265         Spiculated          2  High Radiologist Agreement              1   \n",
              "\n",
              "    Two_Agreement_name  Category  \n",
              "0               Low_No  Low/None  \n",
              "1            Full_High   Testing  \n",
              "2               Low_No  Low/None  \n",
              "3               Low_No  Low/None  \n",
              "4               Low_No  Low/None  \n",
              "..                 ...       ...  \n",
              "261          Full_High  Training  \n",
              "262          Full_High  Training  \n",
              "263          Full_High  Training  \n",
              "264          Full_High  Training  \n",
              "265          Full_High  Training  \n",
              "\n",
              "[266 rows x 12 columns]"
            ],
            "text/html": [
              "\n",
              "  <div id=\"df-9fc7e284-5071-4f01-a946-06745cdfb889\">\n",
              "    <div class=\"colab-df-container\">\n",
              "      <div>\n",
              "<style scoped>\n",
              "    .dataframe tbody tr th:only-of-type {\n",
              "        vertical-align: middle;\n",
              "    }\n",
              "\n",
              "    .dataframe tbody tr th {\n",
              "        vertical-align: top;\n",
              "    }\n",
              "\n",
              "    .dataframe thead th {\n",
              "        text-align: right;\n",
              "    }\n",
              "</style>\n",
              "<table border=\"1\" class=\"dataframe\">\n",
              "  <thead>\n",
              "    <tr style=\"text-align: right;\">\n",
              "      <th></th>\n",
              "      <th>noduleID</th>\n",
              "      <th>Unnamed: 0</th>\n",
              "      <th>InstanceID</th>\n",
              "      <th>Dataset</th>\n",
              "      <th>Binary Rating</th>\n",
              "      <th>Bin_Rating</th>\n",
              "      <th>Binary_Rating_name</th>\n",
              "      <th>Agreement</th>\n",
              "      <th>Agreement_name</th>\n",
              "      <th>Two_Agreement</th>\n",
              "      <th>Two_Agreement_name</th>\n",
              "      <th>Category</th>\n",
              "    </tr>\n",
              "  </thead>\n",
              "  <tbody>\n",
              "    <tr>\n",
              "      <th>0</th>\n",
              "      <td>2600</td>\n",
              "      <td>1302</td>\n",
              "      <td>39904</td>\n",
              "      <td>1</td>\n",
              "      <td>2</td>\n",
              "      <td>2</td>\n",
              "      <td>Unknown</td>\n",
              "      <td>1</td>\n",
              "      <td>Low Radiologist Agreement</td>\n",
              "      <td>0</td>\n",
              "      <td>Low_No</td>\n",
              "      <td>Low/None</td>\n",
              "    </tr>\n",
              "    <tr>\n",
              "      <th>1</th>\n",
              "      <td>2000</td>\n",
              "      <td>1020</td>\n",
              "      <td>30093</td>\n",
              "      <td>2</td>\n",
              "      <td>0</td>\n",
              "      <td>0</td>\n",
              "      <td>Not Spiculated</td>\n",
              "      <td>3</td>\n",
              "      <td>All Radiologist Agreement</td>\n",
              "      <td>1</td>\n",
              "      <td>Full_High</td>\n",
              "      <td>Testing</td>\n",
              "    </tr>\n",
              "    <tr>\n",
              "      <th>2</th>\n",
              "      <td>53</td>\n",
              "      <td>30</td>\n",
              "      <td>695</td>\n",
              "      <td>1</td>\n",
              "      <td>2</td>\n",
              "      <td>2</td>\n",
              "      <td>Unknown</td>\n",
              "      <td>1</td>\n",
              "      <td>Low Radiologist Agreement</td>\n",
              "      <td>0</td>\n",
              "      <td>Low_No</td>\n",
              "      <td>Low/None</td>\n",
              "    </tr>\n",
              "    <tr>\n",
              "      <th>3</th>\n",
              "      <td>1965</td>\n",
              "      <td>1005</td>\n",
              "      <td>29654</td>\n",
              "      <td>1</td>\n",
              "      <td>2</td>\n",
              "      <td>2</td>\n",
              "      <td>Unknown</td>\n",
              "      <td>1</td>\n",
              "      <td>Low Radiologist Agreement</td>\n",
              "      <td>0</td>\n",
              "      <td>Low_No</td>\n",
              "      <td>Low/None</td>\n",
              "    </tr>\n",
              "    <tr>\n",
              "      <th>4</th>\n",
              "      <td>1088</td>\n",
              "      <td>606</td>\n",
              "      <td>15957</td>\n",
              "      <td>1</td>\n",
              "      <td>2</td>\n",
              "      <td>2</td>\n",
              "      <td>Unknown</td>\n",
              "      <td>1</td>\n",
              "      <td>Low Radiologist Agreement</td>\n",
              "      <td>0</td>\n",
              "      <td>Low_No</td>\n",
              "      <td>Low/None</td>\n",
              "    </tr>\n",
              "    <tr>\n",
              "      <th>...</th>\n",
              "      <td>...</td>\n",
              "      <td>...</td>\n",
              "      <td>...</td>\n",
              "      <td>...</td>\n",
              "      <td>...</td>\n",
              "      <td>...</td>\n",
              "      <td>...</td>\n",
              "      <td>...</td>\n",
              "      <td>...</td>\n",
              "      <td>...</td>\n",
              "      <td>...</td>\n",
              "      <td>...</td>\n",
              "    </tr>\n",
              "    <tr>\n",
              "      <th>261</th>\n",
              "      <td>916</td>\n",
              "      <td>516</td>\n",
              "      <td>13388</td>\n",
              "      <td>2</td>\n",
              "      <td>0</td>\n",
              "      <td>0</td>\n",
              "      <td>Not Spiculated</td>\n",
              "      <td>3</td>\n",
              "      <td>All Radiologist Agreement</td>\n",
              "      <td>1</td>\n",
              "      <td>Full_High</td>\n",
              "      <td>Training</td>\n",
              "    </tr>\n",
              "    <tr>\n",
              "      <th>262</th>\n",
              "      <td>1998</td>\n",
              "      <td>1019</td>\n",
              "      <td>30087</td>\n",
              "      <td>2</td>\n",
              "      <td>0</td>\n",
              "      <td>0</td>\n",
              "      <td>Not Spiculated</td>\n",
              "      <td>2</td>\n",
              "      <td>High Radiologist Agreement</td>\n",
              "      <td>1</td>\n",
              "      <td>Full_High</td>\n",
              "      <td>Training</td>\n",
              "    </tr>\n",
              "    <tr>\n",
              "      <th>263</th>\n",
              "      <td>72</td>\n",
              "      <td>42</td>\n",
              "      <td>1042</td>\n",
              "      <td>2</td>\n",
              "      <td>0</td>\n",
              "      <td>0</td>\n",
              "      <td>Not Spiculated</td>\n",
              "      <td>2</td>\n",
              "      <td>High Radiologist Agreement</td>\n",
              "      <td>1</td>\n",
              "      <td>Full_High</td>\n",
              "      <td>Training</td>\n",
              "    </tr>\n",
              "    <tr>\n",
              "      <th>264</th>\n",
              "      <td>2583</td>\n",
              "      <td>1292</td>\n",
              "      <td>39596</td>\n",
              "      <td>2</td>\n",
              "      <td>0</td>\n",
              "      <td>0</td>\n",
              "      <td>Not Spiculated</td>\n",
              "      <td>2</td>\n",
              "      <td>High Radiologist Agreement</td>\n",
              "      <td>1</td>\n",
              "      <td>Full_High</td>\n",
              "      <td>Training</td>\n",
              "    </tr>\n",
              "    <tr>\n",
              "      <th>265</th>\n",
              "      <td>231</td>\n",
              "      <td>134</td>\n",
              "      <td>3308</td>\n",
              "      <td>2</td>\n",
              "      <td>1</td>\n",
              "      <td>1</td>\n",
              "      <td>Spiculated</td>\n",
              "      <td>2</td>\n",
              "      <td>High Radiologist Agreement</td>\n",
              "      <td>1</td>\n",
              "      <td>Full_High</td>\n",
              "      <td>Training</td>\n",
              "    </tr>\n",
              "  </tbody>\n",
              "</table>\n",
              "<p>266 rows × 12 columns</p>\n",
              "</div>\n",
              "      <button class=\"colab-df-convert\" onclick=\"convertToInteractive('df-9fc7e284-5071-4f01-a946-06745cdfb889')\"\n",
              "              title=\"Convert this dataframe to an interactive table.\"\n",
              "              style=\"display:none;\">\n",
              "        \n",
              "  <svg xmlns=\"http://www.w3.org/2000/svg\" height=\"24px\"viewBox=\"0 0 24 24\"\n",
              "       width=\"24px\">\n",
              "    <path d=\"M0 0h24v24H0V0z\" fill=\"none\"/>\n",
              "    <path d=\"M18.56 5.44l.94 2.06.94-2.06 2.06-.94-2.06-.94-.94-2.06-.94 2.06-2.06.94zm-11 1L8.5 8.5l.94-2.06 2.06-.94-2.06-.94L8.5 2.5l-.94 2.06-2.06.94zm10 10l.94 2.06.94-2.06 2.06-.94-2.06-.94-.94-2.06-.94 2.06-2.06.94z\"/><path d=\"M17.41 7.96l-1.37-1.37c-.4-.4-.92-.59-1.43-.59-.52 0-1.04.2-1.43.59L10.3 9.45l-7.72 7.72c-.78.78-.78 2.05 0 2.83L4 21.41c.39.39.9.59 1.41.59.51 0 1.02-.2 1.41-.59l7.78-7.78 2.81-2.81c.8-.78.8-2.07 0-2.86zM5.41 20L4 18.59l7.72-7.72 1.47 1.35L5.41 20z\"/>\n",
              "  </svg>\n",
              "      </button>\n",
              "      \n",
              "  <style>\n",
              "    .colab-df-container {\n",
              "      display:flex;\n",
              "      flex-wrap:wrap;\n",
              "      gap: 12px;\n",
              "    }\n",
              "\n",
              "    .colab-df-convert {\n",
              "      background-color: #E8F0FE;\n",
              "      border: none;\n",
              "      border-radius: 50%;\n",
              "      cursor: pointer;\n",
              "      display: none;\n",
              "      fill: #1967D2;\n",
              "      height: 32px;\n",
              "      padding: 0 0 0 0;\n",
              "      width: 32px;\n",
              "    }\n",
              "\n",
              "    .colab-df-convert:hover {\n",
              "      background-color: #E2EBFA;\n",
              "      box-shadow: 0px 1px 2px rgba(60, 64, 67, 0.3), 0px 1px 3px 1px rgba(60, 64, 67, 0.15);\n",
              "      fill: #174EA6;\n",
              "    }\n",
              "\n",
              "    [theme=dark] .colab-df-convert {\n",
              "      background-color: #3B4455;\n",
              "      fill: #D2E3FC;\n",
              "    }\n",
              "\n",
              "    [theme=dark] .colab-df-convert:hover {\n",
              "      background-color: #434B5C;\n",
              "      box-shadow: 0px 1px 3px 1px rgba(0, 0, 0, 0.15);\n",
              "      filter: drop-shadow(0px 1px 2px rgba(0, 0, 0, 0.3));\n",
              "      fill: #FFFFFF;\n",
              "    }\n",
              "  </style>\n",
              "\n",
              "      <script>\n",
              "        const buttonEl =\n",
              "          document.querySelector('#df-9fc7e284-5071-4f01-a946-06745cdfb889 button.colab-df-convert');\n",
              "        buttonEl.style.display =\n",
              "          google.colab.kernel.accessAllowed ? 'block' : 'none';\n",
              "\n",
              "        async function convertToInteractive(key) {\n",
              "          const element = document.querySelector('#df-9fc7e284-5071-4f01-a946-06745cdfb889');\n",
              "          const dataTable =\n",
              "            await google.colab.kernel.invokeFunction('convertToInteractive',\n",
              "                                                     [key], {});\n",
              "          if (!dataTable) return;\n",
              "\n",
              "          const docLinkHtml = 'Like what you see? Visit the ' +\n",
              "            '<a target=\"_blank\" href=https://colab.research.google.com/notebooks/data_table.ipynb>data table notebook</a>'\n",
              "            + ' to learn more about interactive tables.';\n",
              "          element.innerHTML = '';\n",
              "          dataTable['output_type'] = 'display_data';\n",
              "          await google.colab.output.renderOutput(dataTable, element);\n",
              "          const docLink = document.createElement('div');\n",
              "          docLink.innerHTML = docLinkHtml;\n",
              "          element.appendChild(docLink);\n",
              "        }\n",
              "      </script>\n",
              "    </div>\n",
              "  </div>\n",
              "  "
            ]
          },
          "metadata": {}
        }
      ]
    },
    {
      "cell_type": "code",
      "execution_count": null,
      "metadata": {
        "colab": {
          "base_uri": "https://localhost:8080/"
        },
        "id": "2wVB05cRdZdL",
        "outputId": "edbb85e1-5e90-40cd-c37b-35eeda70fd36"
      },
      "outputs": [
        {
          "output_type": "stream",
          "name": "stdout",
          "text": [
            "34/34 [==============================] - 9s 5ms/step\n"
          ]
        }
      ],
      "source": [
        "###### Retrieve the embeddings, run KNN analysis, and print tsne for TRAINING AND VALIDATION DATA COMBINED #####\n",
        "# First, need to extract only training and validation indices from all data\n",
        "##### Run all data (testing, training, and validation) to retrieve embeddings and plot tsne #####                               USE THIS ONE! :)\n",
        "# read in file with all of the data\n",
        "\n",
        "#total = pd.read_csv(\"/content/drive/MyDrive/MedIx REU/Datasets/Amal/CNN/Spiculation/1332_images_71X71.csv\")\n",
        "#total_ids = total['InstanceID']\n",
        "\n",
        "#total_images = total.drop(['InstanceID','Binary_Rating_Spic'], axis=1)\n",
        "#print(total_images.head(5))\n",
        "\n",
        "total_data = np.array(train_images).reshape(-1,71,71,1)\n",
        "\n",
        "\n",
        "# get the embeddings feature_extractor\n",
        "total_embeddings_before = feature_extractor.predict(total_data)\n",
        "#total_embeddings_before = model.predict(total_data)\n",
        "#total_embeddings2 = (total_embeddings_before[0] - total_embeddings_before[0].min()) / (total_embeddings_before[0].max() - total_embeddings_before[0].min())\n",
        "total_embeddings2 = (total_embeddings_before - total_embeddings_before.min()) / (total_embeddings_before.max() - total_embeddings_before.min())\n",
        "#tot_embedded2 = TSNE(n_components=2,random_state=2).fit_transform(total_embeddings2)"
      ]
    },
    {
      "cell_type": "code",
      "execution_count": null,
      "metadata": {
        "colab": {
          "base_uri": "https://localhost:8080/"
        },
        "id": "92rOtxeXrKUp",
        "outputId": "e68e993a-4977-4e6c-f71a-7829a686bd70"
      },
      "outputs": [
        {
          "output_type": "execute_result",
          "data": {
            "text/plain": [
              "(1066, 71, 71, 1)"
            ]
          },
          "metadata": {},
          "execution_count": 20
        }
      ],
      "source": [
        "total_data.shape"
      ]
    },
    {
      "cell_type": "code",
      "execution_count": null,
      "metadata": {
        "colab": {
          "base_uri": "https://localhost:8080/"
        },
        "id": "SdBlkSq-k2DU",
        "outputId": "fdc86fec-9a38-48cf-eaf3-ce31e2544bf0"
      },
      "outputs": [
        {
          "output_type": "execute_result",
          "data": {
            "text/plain": [
              "(1066, 12544)"
            ]
          },
          "metadata": {},
          "execution_count": 21
        }
      ],
      "source": [
        "total_embeddings_before.shape"
      ]
    },
    {
      "cell_type": "code",
      "execution_count": null,
      "metadata": {
        "colab": {
          "base_uri": "https://localhost:8080/"
        },
        "id": "qiketYV1kRJB",
        "outputId": "97bb4fe2-7ec6-4c3e-98ef-e17da476309a"
      },
      "outputs": [
        {
          "output_type": "execute_result",
          "data": {
            "text/plain": [
              "(1066, 12544)"
            ]
          },
          "metadata": {},
          "execution_count": 22
        }
      ],
      "source": [
        "total_embeddings2.shape"
      ]
    },
    {
      "cell_type": "code",
      "execution_count": null,
      "metadata": {
        "colab": {
          "base_uri": "https://localhost:8080/"
        },
        "id": "1s5ZSQTMrAMU",
        "outputId": "47fbe322-0497-478f-9e5a-34c944800ab1"
      },
      "outputs": [
        {
          "output_type": "execute_result",
          "data": {
            "text/plain": [
              "array([[0., 0., 0., ..., 0., 0., 0.],\n",
              "       [0., 0., 0., ..., 0., 0., 0.],\n",
              "       [0., 0., 0., ..., 0., 0., 0.],\n",
              "       ...,\n",
              "       [0., 0., 0., ..., 0., 0., 0.],\n",
              "       [0., 0., 0., ..., 0., 0., 0.],\n",
              "       [0., 0., 0., ..., 0., 0., 0.]], dtype=float32)"
            ]
          },
          "metadata": {},
          "execution_count": 23
        }
      ],
      "source": [
        "total_embeddings2"
      ]
    },
    {
      "cell_type": "code",
      "source": [
        "total_test_data = np.array(test_images).reshape(-1,71,71,1)\n",
        "\n",
        "# get the embeddings feature_extractor\n",
        "test_embeddings_before = feature_extractor.predict(total_test_data)\n",
        "test_embeddings2 = (test_embeddings_before - test_embeddings_before.min()) / (test_embeddings_before.max() - test_embeddings_before.min())"
      ],
      "metadata": {
        "colab": {
          "base_uri": "https://localhost:8080/"
        },
        "id": "0k_jSx8DGZTq",
        "outputId": "ad26aa19-d5b1-4860-8fa7-a8c77055fe85"
      },
      "execution_count": null,
      "outputs": [
        {
          "output_type": "stream",
          "name": "stdout",
          "text": [
            "9/9 [==============================] - 0s 2ms/step\n"
          ]
        }
      ]
    },
    {
      "cell_type": "code",
      "source": [
        "total_test_data.shape"
      ],
      "metadata": {
        "colab": {
          "base_uri": "https://localhost:8080/"
        },
        "id": "-NcfirQ7Gqz3",
        "outputId": "d13e8c8e-bae4-4bcf-fbae-09e937336804"
      },
      "execution_count": null,
      "outputs": [
        {
          "output_type": "execute_result",
          "data": {
            "text/plain": [
              "(266, 71, 71, 1)"
            ]
          },
          "metadata": {},
          "execution_count": 26
        }
      ]
    },
    {
      "cell_type": "code",
      "execution_count": null,
      "metadata": {
        "id": "x7AV1vABmJ4V"
      },
      "outputs": [],
      "source": [
        "train_agreements = train_slices['Two_Agreement']\n",
        "test_agreements = test_slices['Two_Agreement']"
      ]
    },
    {
      "cell_type": "code",
      "execution_count": null,
      "metadata": {
        "id": "UEULpBX0mPuW"
      },
      "outputs": [],
      "source": [
        "import itertools\n",
        "#creating cunfusion matrix\n",
        "\n",
        "def custom_confusion_matrix(y_true, y_pred, classes=None,figsize=(15,15), text_size=15):\n",
        "    #figsize = (10,10)\n",
        "    cm = confusion_matrix(y_true, y_pred)\n",
        "    cm_norm = cm.astype(\"float\")/cm.sum(axis=1)[:, np.newaxis]#normalize the confusion matrix\n",
        "    n_classes = cm.shape[0]\n",
        "\n",
        "    #adjusting the cunfusion matrix\n",
        "    fig, ax = plt.subplots(figsize=figsize)\n",
        "    #Creating a matrix plot\n",
        "    cax = ax.matshow(cm, cmap=plt.cm.Blues)\n",
        "    fig.colorbar(cax)\n",
        "    #create classes\n",
        "    #classes = False\n",
        "    if classes:\n",
        "        labels = classes\n",
        "    else:\n",
        "        labels = np.arange(cm.shape[0])\n",
        "    #Label the axes\n",
        "    ax.set(title=\"Confusion Matrix\",\n",
        "          xlabel=\"Predicted Label\",\n",
        "          ylabel=\"True Label\",\n",
        "          xticks=np.arange(n_classes),\n",
        "          yticks=np.arange(n_classes),\n",
        "          xticklabels=labels,\n",
        "          yticklabels=labels)\n",
        "    #Set axis label to bottom\n",
        "    ax.xaxis.set_label_position(\"bottom\")\n",
        "    ax.xaxis.tick_bottom()\n",
        "    #Adjust label size\n",
        "    ax.yaxis.label.set_size(text_size)\n",
        "    ax.xaxis.label.set_size(text_size)\n",
        "    ax.title.set_size(text_size)\n",
        "    #Set threshold for diffferent colors\n",
        "    threshold = (cm.max() + cm.min())/2.\n",
        "\n",
        "    for i, j in itertools.product(range(cm.shape[0]),range(cm.shape[1])):\n",
        "        plt.text(j,i,f\"{cm[i,j]}({cm_norm[i,j]*100: .1f}%)\",\n",
        "                horizontalalignment=\"center\",\n",
        "                color=\"white\" if cm[i,j]>threshold else \"black\",\n",
        "                size = text_size)"
      ]
    },
    {
      "cell_type": "code",
      "execution_count": null,
      "metadata": {
        "id": "dg37sVEumX7a"
      },
      "outputs": [],
      "source": [
        "def fitting(X_train, X_test, y_train, y_test, C, gamma):\n",
        "    # Create training and testing samples\n",
        "    #X_train, X_test, y_train, y_test = train_test_split(X, y, test_size=0.2, random_state=0)\n",
        "\n",
        "    # Fit the model\n",
        "    # Note, available kernels: {‘linear’, ‘poly’, ‘rbf’, ‘sigmoid’, ‘precomputed’}, default=’rbf’\n",
        "    model = SVC(kernel='rbf', probability=True, C=C, gamma=gamma)\n",
        "    clf = model.fit(X_train, y_train)\n",
        "\n",
        "    # Predict class labels on training data\n",
        "    pred_labels_tr = model.predict(X_train)\n",
        "    # Predict class labels on a test data\n",
        "    pred_labels_te = model.predict(X_test)\n",
        "\n",
        "    # Use score method to get accuracy of the model\n",
        "    print('----- Evaluation on Test Data -----')\n",
        "    classes_name = [\"Low_No\", \"Full_High\"]\n",
        "    custom_confusion_matrix(y_test,\n",
        "                       pred_labels_te,\n",
        "                       classes_name,\n",
        "                       (15,15),\n",
        "                       10)\n",
        "    score_te = model.score(X_test, y_test)\n",
        "    print('Accuracy Score: ', score_te)\n",
        "    # Look at classification report to evaluate the model\n",
        "    print(classification_report(y_test, pred_labels_te))\n",
        "    print('--------------------------------------------------------')\n",
        "\n",
        "    print('----- Evaluation on Training Data -----')\n",
        "    custom_confusion_matrix(y_train,\n",
        "                       pred_labels_tr,\n",
        "                       classes_name,\n",
        "                       (15,15),\n",
        "                       10)\n",
        "    score_tr = model.score(X_train, y_train)\n",
        "    print('Accuracy Score: ', score_tr)\n",
        "    # Look at classification report to evaluate the model\n",
        "    print(classification_report(y_train, pred_labels_tr))\n",
        "    print('--------------------------------------------------------')\n",
        "\n",
        "    # Return relevant data for chart plotting\n",
        "    return X_train, X_test, y_train, y_test, clf"
      ]
    },
    {
      "cell_type": "code",
      "execution_count": null,
      "metadata": {
        "colab": {
          "base_uri": "https://localhost:8080/",
          "height": 1000
        },
        "id": "NuizuPaOmdRv",
        "outputId": "9809c508-c31c-4bbc-9871-e106edefc030"
      },
      "outputs": [
        {
          "output_type": "stream",
          "name": "stdout",
          "text": [
            "----- Evaluation on Test Data -----\n",
            "Accuracy Score:  0.5864661654135338\n",
            "              precision    recall  f1-score   support\n",
            "\n",
            "           0       0.58      0.42      0.49       125\n",
            "           1       0.59      0.73      0.65       141\n",
            "\n",
            "    accuracy                           0.59       266\n",
            "   macro avg       0.59      0.58      0.57       266\n",
            "weighted avg       0.59      0.59      0.58       266\n",
            "\n",
            "--------------------------------------------------------\n",
            "----- Evaluation on Training Data -----\n",
            "Accuracy Score:  0.851782363977486\n",
            "              precision    recall  f1-score   support\n",
            "\n",
            "           0       0.90      0.75      0.82       480\n",
            "           1       0.82      0.94      0.87       586\n",
            "\n",
            "    accuracy                           0.85      1066\n",
            "   macro avg       0.86      0.84      0.85      1066\n",
            "weighted avg       0.86      0.85      0.85      1066\n",
            "\n",
            "--------------------------------------------------------\n"
          ]
        },
        {
          "output_type": "display_data",
          "data": {
            "text/plain": [
              "<Figure size 1080x1080 with 2 Axes>"
            ],
            "image/png": "[encoded data removed]"
          },
          "metadata": {
            "needs_background": "light"
          }
        },
        {
          "output_type": "display_data",
          "data": {
            "text/plain": [
              "<Figure size 1080x1080 with 2 Axes>"
            ],
            "image/png": "[encoded data removed]"
          },
          "metadata": {
            "needs_background": "light"
          }
        }
      ],
      "source": [
        "# Fit the model and display results\n",
        "X_train, X_test, y_train, y_test, clf = fitting(total_embeddings2, test_embeddings2, train_agreements, test_agreements, 1, 'scale')"
      ]
    },
    {
      "cell_type": "code",
      "execution_count": null,
      "metadata": {
        "colab": {
          "base_uri": "https://localhost:8080/",
          "height": 1000
        },
        "id": "1xrcqN2Tp6eg",
        "outputId": "b99df11e-919f-4b0c-dacd-5cb96a80cb66"
      },
      "outputs": [
        {
          "output_type": "stream",
          "name": "stdout",
          "text": [
            "----- Evaluation on Test Data -----\n",
            "Accuracy Score:  0.575187969924812\n",
            "              precision    recall  f1-score   support\n",
            "\n",
            "           0       0.57      0.38      0.46       125\n",
            "           1       0.58      0.74      0.65       141\n",
            "\n",
            "    accuracy                           0.58       266\n",
            "   macro avg       0.57      0.56      0.55       266\n",
            "weighted avg       0.57      0.58      0.56       266\n",
            "\n",
            "--------------------------------------------------------\n",
            "----- Evaluation on Training Data -----\n",
            "Accuracy Score:  0.8114446529080676\n",
            "              precision    recall  f1-score   support\n",
            "\n",
            "           0       0.87      0.69      0.77       480\n",
            "           1       0.78      0.91      0.84       586\n",
            "\n",
            "    accuracy                           0.81      1066\n",
            "   macro avg       0.82      0.80      0.80      1066\n",
            "weighted avg       0.82      0.81      0.81      1066\n",
            "\n",
            "--------------------------------------------------------\n"
          ]
        },
        {
          "output_type": "display_data",
          "data": {
            "text/plain": [
              "<Figure size 1080x1080 with 2 Axes>"
            ],
            "image/png": "[encoded data removed]"
          },
          "metadata": {
            "needs_background": "light"
          }
        },
        {
          "output_type": "display_data",
          "data": {
            "text/plain": [
              "<Figure size 1080x1080 with 2 Axes>"
            ],
            "image/png": "[encoded data removed]"
          },
          "metadata": {
            "needs_background": "light"
          }
        }
      ],
      "source": [
        "# Fit the model and display results\n",
        "#X_train, X_test, y_train, y_test, clf = fitting(total_embeddings2, agreements, 1,  0.1)\n",
        "X_train, X_test, y_train, y_test, clf = fitting(total_embeddings2, test_embeddings2, train_agreements, test_agreements, 1, 0.1)"
      ]
    },
    {
      "cell_type": "code",
      "execution_count": null,
      "metadata": {
        "colab": {
          "base_uri": "https://localhost:8080/",
          "height": 1000
        },
        "id": "5vQlSIv5qF5n",
        "outputId": "0f753116-fbec-4e8d-e88f-5848b926fea2"
      },
      "outputs": [
        {
          "output_type": "stream",
          "name": "stdout",
          "text": [
            "----- Evaluation on Test Data -----\n",
            "Accuracy Score:  0.5300751879699248\n",
            "              precision    recall  f1-score   support\n",
            "\n",
            "           0       0.00      0.00      0.00       125\n",
            "           1       0.53      1.00      0.69       141\n",
            "\n",
            "    accuracy                           0.53       266\n",
            "   macro avg       0.27      0.50      0.35       266\n",
            "weighted avg       0.28      0.53      0.37       266\n",
            "\n",
            "--------------------------------------------------------\n",
            "----- Evaluation on Training Data -----\n"
          ]
        },
        {
          "output_type": "stream",
          "name": "stderr",
          "text": [
            "/usr/local/lib/python3.9/dist-packages/sklearn/metrics/_classification.py:1344: UndefinedMetricWarning: Precision and F-score are ill-defined and being set to 0.0 in labels with no predicted samples. Use `zero_division` parameter to control this behavior.\n",
            "  _warn_prf(average, modifier, msg_start, len(result))\n",
            "/usr/local/lib/python3.9/dist-packages/sklearn/metrics/_classification.py:1344: UndefinedMetricWarning: Precision and F-score are ill-defined and being set to 0.0 in labels with no predicted samples. Use `zero_division` parameter to control this behavior.\n",
            "  _warn_prf(average, modifier, msg_start, len(result))\n",
            "/usr/local/lib/python3.9/dist-packages/sklearn/metrics/_classification.py:1344: UndefinedMetricWarning: Precision and F-score are ill-defined and being set to 0.0 in labels with no predicted samples. Use `zero_division` parameter to control this behavior.\n",
            "  _warn_prf(average, modifier, msg_start, len(result))\n"
          ]
        },
        {
          "output_type": "stream",
          "name": "stdout",
          "text": [
            "Accuracy Score:  0.549718574108818\n",
            "              precision    recall  f1-score   support\n",
            "\n",
            "           0       0.00      0.00      0.00       480\n",
            "           1       0.55      1.00      0.71       586\n",
            "\n",
            "    accuracy                           0.55      1066\n",
            "   macro avg       0.27      0.50      0.35      1066\n",
            "weighted avg       0.30      0.55      0.39      1066\n",
            "\n",
            "--------------------------------------------------------\n"
          ]
        },
        {
          "output_type": "stream",
          "name": "stderr",
          "text": [
            "/usr/local/lib/python3.9/dist-packages/sklearn/metrics/_classification.py:1344: UndefinedMetricWarning: Precision and F-score are ill-defined and being set to 0.0 in labels with no predicted samples. Use `zero_division` parameter to control this behavior.\n",
            "  _warn_prf(average, modifier, msg_start, len(result))\n",
            "/usr/local/lib/python3.9/dist-packages/sklearn/metrics/_classification.py:1344: UndefinedMetricWarning: Precision and F-score are ill-defined and being set to 0.0 in labels with no predicted samples. Use `zero_division` parameter to control this behavior.\n",
            "  _warn_prf(average, modifier, msg_start, len(result))\n",
            "/usr/local/lib/python3.9/dist-packages/sklearn/metrics/_classification.py:1344: UndefinedMetricWarning: Precision and F-score are ill-defined and being set to 0.0 in labels with no predicted samples. Use `zero_division` parameter to control this behavior.\n",
            "  _warn_prf(average, modifier, msg_start, len(result))\n"
          ]
        },
        {
          "output_type": "display_data",
          "data": {
            "text/plain": [
              "<Figure size 1080x1080 with 2 Axes>"
            ],
            "image/png": "[encoded data removed]"
          },
          "metadata": {
            "needs_background": "light"
          }
        },
        {
          "output_type": "display_data",
          "data": {
            "text/plain": [
              "<Figure size 1080x1080 with 2 Axes>"
            ],
            "image/png": "[encoded data removed]"
          },
          "metadata": {
            "needs_background": "light"
          }
        }
      ],
      "source": [
        "# Fit the model and display results\n",
        "#X_train, X_test, y_train, y_test, clf = fitting(total_embeddings2, agreements, 1, 0.000001)\n",
        "X_train, X_test, y_train, y_test, clf = fitting(total_embeddings2, test_embeddings2, train_agreements, test_agreements, 1, 0.000001)"
      ]
    }
  ],
  "metadata": {
    "accelerator": "GPU",
    "colab": {
      "machine_shape": "hm",
      "provenance": [],
      "mount_file_id": "17yD4cDMduSLFAi8oiqQflUBntWkrQCrV",
      "authorship_tag": "ABX9TyOf5rvwvjXzDQjcBYT7kORZ",
      "include_colab_link": true
    },
    "kernelspec": {
      "display_name": "Python 3",
      "name": "python3"
    },
    "language_info": {
      "name": "python"
    }
  },
  "nbformat": 4,
  "nbformat_minor": 0
}