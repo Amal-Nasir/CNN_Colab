{
  "cells": [
    {
      "cell_type": "markdown",
      "metadata": {
        "id": "view-in-github",
        "colab_type": "text"
      },
      "source": [
        "<a href=\"https://colab.research.google.com/github/Amal-Nasir/CNN_Colab/blob/main/CNN_Mal_Variance.ipynb\" target=\"_parent\"><img src=\"https://colab.research.google.com/assets/colab-badge.svg\" alt=\"Open In Colab\"/></a>"
      ]
    },
    {
      "cell_type": "code",
      "execution_count": null,
      "metadata": {
        "colab": {
          "base_uri": "https://localhost:8080/"
        },
        "id": "iapjMoGoR5U3",
        "outputId": "2c4604e9-ed34-48d5-8d1f-7d20f53ac3b7"
      },
      "outputs": [
        {
          "output_type": "stream",
          "name": "stdout",
          "text": [
            "Mounted at /content/drive\n"
          ]
        }
      ],
      "source": [
        "from google.colab import drive\n",
        "drive.mount('/content/drive')"
      ]
    },
    {
      "cell_type": "code",
      "execution_count": null,
      "metadata": {
        "id": "_ulkz4_55ZYO",
        "colab": {
          "base_uri": "https://localhost:8080/"
        },
        "outputId": "b8594ce0-1c46-463f-a3d6-95b1fe0c4666"
      },
      "outputs": [
        {
          "output_type": "stream",
          "name": "stdout",
          "text": [
            "/\n"
          ]
        }
      ],
      "source": [
        "cd .."
      ]
    },
    {
      "cell_type": "code",
      "execution_count": null,
      "metadata": {
        "id": "xBss2yWg5aNV",
        "colab": {
          "base_uri": "https://localhost:8080/"
        },
        "outputId": "a5741fc8-eabe-49b2-8d9b-31789b90e05e"
      },
      "outputs": [
        {
          "output_type": "stream",
          "name": "stdout",
          "text": [
            "/content/drive/MyDrive/MedIx REU/Datasets\n"
          ]
        }
      ],
      "source": [
        "cd content/drive/MyDrive/MedIx\\ REU/Datasets"
      ]
    },
    {
      "cell_type": "code",
      "execution_count": null,
      "metadata": {
        "id": "EOM6ZwEeZAAT"
      },
      "outputs": [],
      "source": [
        "from __future__ import absolute_import\n",
        "from __future__ import print_function\n",
        "import tensorflow as tf\n",
        "import numpy as np  # linear alg\n",
        "import pandas as pd  # data processing, CSV file I/O (e.g. pd.read_csv)\n",
        "import random\n",
        "import keras\n",
        "import matplotlib.pyplot as plt\n",
        "from keras.models import Model\n",
        "from keras.layers import Input, Flatten, Dense, Dropout, Lambda\n",
        "from keras import backend as K\n",
        "from sklearn.neighbors import KNeighborsClassifier\n",
        "from sklearn.metrics import accuracy_score, silhouette_score, silhouette_samples, homogeneity_completeness_v_measure\n",
        "from sklearn.cluster import KMeans\n",
        "from sklearn.preprocessing import normalize, MinMaxScaler\n",
        "from keras.layers.convolutional import Conv2D\n",
        "from keras.layers.pooling import MaxPooling2D, AveragePooling2D\n",
        "from sklearn.manifold import TSNE\n",
        "from sklearn.cluster import DBSCAN, SpectralClustering, AgglomerativeClustering\n",
        "import os\n",
        "from os import path\n",
        "#from s_dbw import S_Dbw, SD"
      ]
    },
    {
      "cell_type": "code",
      "source": [
        "from sklearn.preprocessing import StandardScaler\n",
        "\n",
        "class KMeans:\n",
        "    def __init__(self, n_clusters=8, max_iter=1000):\n",
        "        self.n_clusters = n_clusters\n",
        "        self.max_iter = max_iter\n",
        "    def fit(self, X_train):\n",
        "        # Initialize the centroids, using the \"k-means++\" method, where a random datapoint is selected as the first,\n",
        "        # then the rest are initialized w/ probabilities proportional to their distances to the first\n",
        "        # Pick a random point from train data for first centroid\n",
        "        self.centroids = [random.choice(X_train)]\n",
        "        for _ in range(self.n_clusters-1):\n",
        "            # Calculate distances from points to the centroids\n",
        "            dists = np.sum([self.euclidean(centroid, X_train) for centroid in self.centroids], axis=0)\n",
        "            # Normalize the distances\n",
        "            dists /= np.sum(dists)\n",
        "            # Choose remaining points based on their distances\n",
        "            new_centroid_idx, = np.random.choice(range(len(X_train)), size=1, p=dists)\n",
        "            self.centroids += [X_train[new_centroid_idx]]\n",
        "        # This initial method of randomly selecting centroid starts is less effective\n",
        "        # min_, max_ = np.min(X_train, axis=0), np.max(X_train, axis=0)\n",
        "        # self.centroids = [uniform(min_, max_) for _ in range(self.n_clusters)]\n",
        "        # Iterate, adjusting centroids until converged or until passed max_iter\n",
        "        iteration = 0\n",
        "        prev_centroids = None\n",
        "        while np.not_equal(self.centroids, prev_centroids).any() and iteration < self.max_iter:\n",
        "            # Sort each datapoint, assigning to nearest centroid\n",
        "            sorted_points = [[] for _ in range(self.n_clusters)]\n",
        "            for x in X_train:\n",
        "                dists = self.euclidean(x, self.centroids)\n",
        "                centroid_idx = np.argmin(dists)\n",
        "                sorted_points[centroid_idx].append(x)\n",
        "            # Push current centroids to previous, reassign centroids as mean of the points belonging to them\n",
        "            prev_centroids = self.centroids\n",
        "            self.centroids = [np.mean(cluster, axis=0) for cluster in sorted_points]\n",
        "            for i, centroid in enumerate(self.centroids):\n",
        "                if np.isnan(centroid).any():  # Catch any np.nans, resulting from a centroid having no points\n",
        "                    self.centroids[i] = prev_centroids[i]\n",
        "            iteration += 1\n",
        "    def evaluate(self, X):\n",
        "        centroids = []\n",
        "        centroid_idxs = []\n",
        "        for x in X:\n",
        "            dists = self.euclidean(x, self.centroids)\n",
        "            centroid_idx = np.argmin(dists)\n",
        "            centroids.append(self.centroids[centroid_idx])\n",
        "            centroid_idxs.append(centroid_idx)\n",
        "        return centroids, centroid_idxs\n",
        "\n",
        "    def euclidean(self, point, data):\n",
        "        \"\"\"\n",
        "        Euclidean distance between point & data.\n",
        "        Point has dimensions (m,), data has dimensions (n,m), and output will be of size (n,).\n",
        "        \"\"\"\n",
        "        return np.sqrt(np.sum((point - data)**2, axis=1))"
      ],
      "metadata": {
        "id": "rDNW2GGlL0Hp"
      },
      "execution_count": null,
      "outputs": []
    },
    {
      "cell_type": "code",
      "execution_count": null,
      "metadata": {
        "id": "U6Y50Yu9cZuN"
      },
      "outputs": [],
      "source": [
        "##### Import Trained Model #####\n",
        "model = keras.models.load_model(\"/content/drive/MyDrive/MedIx REU/Datasets/Amal/CNN/Malignancy/CNN_machine_model\" , compile = True)"
      ]
    },
    {
      "cell_type": "code",
      "source": [
        "model.summary()"
      ],
      "metadata": {
        "colab": {
          "base_uri": "https://localhost:8080/"
        },
        "id": "_i3_1XSVAYgG",
        "outputId": "35d241e0-006b-49ce-969f-49fdf7a50697"
      },
      "execution_count": null,
      "outputs": [
        {
          "output_type": "stream",
          "name": "stdout",
          "text": [
            "Model: \"sequential\"\n",
            "_________________________________________________________________\n",
            " Layer (type)                Output Shape              Param #   \n",
            "=================================================================\n",
            " conv2d (Conv2D)             (None, 69, 69, 32)        320       \n",
            "                                                                 \n",
            " max_pooling2d (MaxPooling2D  (None, 34, 34, 32)       0         \n",
            " )                                                               \n",
            "                                                                 \n",
            " conv2d_1 (Conv2D)           (None, 32, 32, 64)        18496     \n",
            "                                                                 \n",
            " max_pooling2d_1 (MaxPooling  (None, 16, 16, 64)       0         \n",
            " 2D)                                                             \n",
            "                                                                 \n",
            " conv2d_2 (Conv2D)           (None, 14, 14, 64)        36928     \n",
            "                                                                 \n",
            " flatten (Flatten)           (None, 12544)             0         \n",
            "                                                                 \n",
            " dense (Dense)               (None, 512)               6423040   \n",
            "                                                                 \n",
            " dense_1 (Dense)             (None, 3)                 1539      \n",
            "                                                                 \n",
            "=================================================================\n",
            "Total params: 6,480,323\n",
            "Trainable params: 6,480,323\n",
            "Non-trainable params: 0\n",
            "_________________________________________________________________\n"
          ]
        }
      ]
    },
    {
      "cell_type": "code",
      "source": [
        "feature_extractor = keras.Model(\n",
        "    inputs=model.inputs,\n",
        "    outputs=model.get_layer(name=\"flatten\").output)"
      ],
      "metadata": {
        "id": "mg9JNQxF6hyB"
      },
      "execution_count": null,
      "outputs": []
    },
    {
      "cell_type": "code",
      "source": [
        "def getNormed(this_array, this_min = 0, this_max = 255, set_to_int = True):\n",
        "    new_var = this_array.copy()\n",
        "    rat = (this_max - this_min)/(new_var.max() - new_var.min())\n",
        "    new_var = new_var * rat\n",
        "    new_var -= new_var.min()\n",
        "    new_var += this_min\n",
        "    if set_to_int:\n",
        "        return new_var.astype('uint8')\n",
        "    return new_var"
      ],
      "metadata": {
        "id": "qZAfWKY3rQsV"
      },
      "execution_count": null,
      "outputs": []
    },
    {
      "cell_type": "code",
      "source": [
        "#total = pd.read_csv(\"/content/drive/MyDrive/MedIx REU/Datasets/Amal/CNN/Malignancy/Agreement_Binary_Rating.csv\")\n",
        "total = pd.read_csv(\"/content/drive/MyDrive/MedIx REU/Datasets/Amal/CNN/Malignancy/machine_mal_ratings.csv\")\n",
        "total_nod = total['noduleID']\n",
        "total_nod = np.array(total_nod)\n",
        "\n",
        "image_folder = '/content/drive/MyDrive/MedIx REU/Datasets/Amal/images_1332'\n",
        "train_images = []\n",
        "train_noduleId = []\n",
        "print(image_folder)\n",
        "\n",
        "for dir1 in os.listdir(image_folder):\n",
        "    print(dir1)\n",
        "    if not dir1.startswith('.'):\n",
        "        for file in os.listdir(os.path.join(image_folder, dir1)):\n",
        "            #print(file)\n",
        "            noduleID = file.split('.')[0]\n",
        "            if not file.startswith('.'):\n",
        "                noduleID = int(noduleID)\n",
        "                train_noduleId.append(noduleID)\n",
        "                temp_image = np.loadtxt(os.path.join(image_folder, dir1,file))\n",
        "                temp_image = getNormed(temp_image)\n",
        "                train_images.append(temp_image)"
      ],
      "metadata": {
        "id": "efPxTHZ0K5p2",
        "colab": {
          "base_uri": "https://localhost:8080/"
        },
        "outputId": "ac7d606f-797b-45f2-c9f1-45c79f516b22"
      },
      "execution_count": null,
      "outputs": [
        {
          "output_type": "stream",
          "name": "stdout",
          "text": [
            "/content/drive/MyDrive/MedIx REU/Datasets/Amal/images_1332\n",
            "Malignancy_5\n",
            "Malignancy_1\n",
            "Malignancy_4\n",
            "Malignancy_2\n",
            "Malignancy_3\n"
          ]
        }
      ]
    },
    {
      "cell_type": "code",
      "source": [
        "tr_df = pd.DataFrame(train_noduleId,columns =['noduleID'])\n",
        "print(tr_df)"
      ],
      "metadata": {
        "colab": {
          "base_uri": "https://localhost:8080/"
        },
        "id": "wMED10NfrWxt",
        "outputId": "aed82f70-148b-4eb5-f841-cc04b81e1378"
      },
      "execution_count": null,
      "outputs": [
        {
          "output_type": "stream",
          "name": "stdout",
          "text": [
            "      noduleID\n",
            "0          324\n",
            "1         1888\n",
            "2         1606\n",
            "3         1427\n",
            "4         1760\n",
            "...        ...\n",
            "1327      2301\n",
            "1328      2583\n",
            "1329      1772\n",
            "1330       231\n",
            "1331      2540\n",
            "\n",
            "[1332 rows x 1 columns]\n"
          ]
        }
      ]
    },
    {
      "cell_type": "code",
      "source": [
        "train_slices = pd.merge(tr_df, total)\n",
        "display(train_slices)"
      ],
      "metadata": {
        "colab": {
          "base_uri": "https://localhost:8080/",
          "height": 411
        },
        "id": "iJd8UA30rY7V",
        "outputId": "0da2c410-f724-4aad-b5af-82e138f91690"
      },
      "execution_count": null,
      "outputs": [
        {
          "output_type": "display_data",
          "data": {
            "text/plain": [
              "      noduleID  InstanceID  Agglomeration  Binary Rating   m1   m2   m3   m4  \\\n",
              "0          324        4732            NaN              3  5.0  4.0  5.0  4.0   \n",
              "1         1888       28743            NaN              3  3.0  5.0  5.0  2.0   \n",
              "2         1606       24119            NaN              3  3.0  3.0  5.0  2.0   \n",
              "3         1427       21366            NaN              3  4.0  5.0  3.0  3.0   \n",
              "4         1760       26447            NaN              3  5.0  5.0  3.0  3.0   \n",
              "...        ...         ...            ...            ...  ...  ...  ...  ...   \n",
              "1327      2301       35200            NaN              3  3.0  4.0  1.0  3.0   \n",
              "1328      2583       39596            NaN              3  4.0  3.0  3.0  NaN   \n",
              "1329      1772       26626            3.0              2  4.0  3.0  3.0  3.0   \n",
              "1330       231        3308            3.0              2  5.0  3.0  3.0  3.0   \n",
              "1331      2540       38933            3.0              2  3.0  3.0  3.0  NaN   \n",
              "\n",
              "                machine_Agreement  Agreement  \n",
              "0      Low Radiologists Agreement          1  \n",
              "1      Low Radiologists Agreement          1  \n",
              "2      Low Radiologists Agreement          1  \n",
              "3      Low Radiologists Agreement          1  \n",
              "4      Low Radiologists Agreement          1  \n",
              "...                           ...        ...  \n",
              "1327   Low Radiologists Agreement          1  \n",
              "1328   Low Radiologists Agreement          1  \n",
              "1329  High Radiologists Agreement          2  \n",
              "1330  High Radiologists Agreement          2  \n",
              "1331  High Radiologists Agreement          2  \n",
              "\n",
              "[1332 rows x 10 columns]"
            ],
            "text/html": [
              "\n",
              "  <div id=\"df-761621f1-43df-417b-ba88-f12f5b98f095\">\n",
              "    <div class=\"colab-df-container\">\n",
              "      <div>\n",
              "<style scoped>\n",
              "    .dataframe tbody tr th:only-of-type {\n",
              "        vertical-align: middle;\n",
              "    }\n",
              "\n",
              "    .dataframe tbody tr th {\n",
              "        vertical-align: top;\n",
              "    }\n",
              "\n",
              "    .dataframe thead th {\n",
              "        text-align: right;\n",
              "    }\n",
              "</style>\n",
              "<table border=\"1\" class=\"dataframe\">\n",
              "  <thead>\n",
              "    <tr style=\"text-align: right;\">\n",
              "      <th></th>\n",
              "      <th>noduleID</th>\n",
              "      <th>InstanceID</th>\n",
              "      <th>Agglomeration</th>\n",
              "      <th>Binary Rating</th>\n",
              "      <th>m1</th>\n",
              "      <th>m2</th>\n",
              "      <th>m3</th>\n",
              "      <th>m4</th>\n",
              "      <th>machine_Agreement</th>\n",
              "      <th>Agreement</th>\n",
              "    </tr>\n",
              "  </thead>\n",
              "  <tbody>\n",
              "    <tr>\n",
              "      <th>0</th>\n",
              "      <td>324</td>\n",
              "      <td>4732</td>\n",
              "      <td>NaN</td>\n",
              "      <td>3</td>\n",
              "      <td>5.0</td>\n",
              "      <td>4.0</td>\n",
              "      <td>5.0</td>\n",
              "      <td>4.0</td>\n",
              "      <td>Low Radiologists Agreement</td>\n",
              "      <td>1</td>\n",
              "    </tr>\n",
              "    <tr>\n",
              "      <th>1</th>\n",
              "      <td>1888</td>\n",
              "      <td>28743</td>\n",
              "      <td>NaN</td>\n",
              "      <td>3</td>\n",
              "      <td>3.0</td>\n",
              "      <td>5.0</td>\n",
              "      <td>5.0</td>\n",
              "      <td>2.0</td>\n",
              "      <td>Low Radiologists Agreement</td>\n",
              "      <td>1</td>\n",
              "    </tr>\n",
              "    <tr>\n",
              "      <th>2</th>\n",
              "      <td>1606</td>\n",
              "      <td>24119</td>\n",
              "      <td>NaN</td>\n",
              "      <td>3</td>\n",
              "      <td>3.0</td>\n",
              "      <td>3.0</td>\n",
              "      <td>5.0</td>\n",
              "      <td>2.0</td>\n",
              "      <td>Low Radiologists Agreement</td>\n",
              "      <td>1</td>\n",
              "    </tr>\n",
              "    <tr>\n",
              "      <th>3</th>\n",
              "      <td>1427</td>\n",
              "      <td>21366</td>\n",
              "      <td>NaN</td>\n",
              "      <td>3</td>\n",
              "      <td>4.0</td>\n",
              "      <td>5.0</td>\n",
              "      <td>3.0</td>\n",
              "      <td>3.0</td>\n",
              "      <td>Low Radiologists Agreement</td>\n",
              "      <td>1</td>\n",
              "    </tr>\n",
              "    <tr>\n",
              "      <th>4</th>\n",
              "      <td>1760</td>\n",
              "      <td>26447</td>\n",
              "      <td>NaN</td>\n",
              "      <td>3</td>\n",
              "      <td>5.0</td>\n",
              "      <td>5.0</td>\n",
              "      <td>3.0</td>\n",
              "      <td>3.0</td>\n",
              "      <td>Low Radiologists Agreement</td>\n",
              "      <td>1</td>\n",
              "    </tr>\n",
              "    <tr>\n",
              "      <th>...</th>\n",
              "      <td>...</td>\n",
              "      <td>...</td>\n",
              "      <td>...</td>\n",
              "      <td>...</td>\n",
              "      <td>...</td>\n",
              "      <td>...</td>\n",
              "      <td>...</td>\n",
              "      <td>...</td>\n",
              "      <td>...</td>\n",
              "      <td>...</td>\n",
              "    </tr>\n",
              "    <tr>\n",
              "      <th>1327</th>\n",
              "      <td>2301</td>\n",
              "      <td>35200</td>\n",
              "      <td>NaN</td>\n",
              "      <td>3</td>\n",
              "      <td>3.0</td>\n",
              "      <td>4.0</td>\n",
              "      <td>1.0</td>\n",
              "      <td>3.0</td>\n",
              "      <td>Low Radiologists Agreement</td>\n",
              "      <td>1</td>\n",
              "    </tr>\n",
              "    <tr>\n",
              "      <th>1328</th>\n",
              "      <td>2583</td>\n",
              "      <td>39596</td>\n",
              "      <td>NaN</td>\n",
              "      <td>3</td>\n",
              "      <td>4.0</td>\n",
              "      <td>3.0</td>\n",
              "      <td>3.0</td>\n",
              "      <td>NaN</td>\n",
              "      <td>Low Radiologists Agreement</td>\n",
              "      <td>1</td>\n",
              "    </tr>\n",
              "    <tr>\n",
              "      <th>1329</th>\n",
              "      <td>1772</td>\n",
              "      <td>26626</td>\n",
              "      <td>3.0</td>\n",
              "      <td>2</td>\n",
              "      <td>4.0</td>\n",
              "      <td>3.0</td>\n",
              "      <td>3.0</td>\n",
              "      <td>3.0</td>\n",
              "      <td>High Radiologists Agreement</td>\n",
              "      <td>2</td>\n",
              "    </tr>\n",
              "    <tr>\n",
              "      <th>1330</th>\n",
              "      <td>231</td>\n",
              "      <td>3308</td>\n",
              "      <td>3.0</td>\n",
              "      <td>2</td>\n",
              "      <td>5.0</td>\n",
              "      <td>3.0</td>\n",
              "      <td>3.0</td>\n",
              "      <td>3.0</td>\n",
              "      <td>High Radiologists Agreement</td>\n",
              "      <td>2</td>\n",
              "    </tr>\n",
              "    <tr>\n",
              "      <th>1331</th>\n",
              "      <td>2540</td>\n",
              "      <td>38933</td>\n",
              "      <td>3.0</td>\n",
              "      <td>2</td>\n",
              "      <td>3.0</td>\n",
              "      <td>3.0</td>\n",
              "      <td>3.0</td>\n",
              "      <td>NaN</td>\n",
              "      <td>High Radiologists Agreement</td>\n",
              "      <td>2</td>\n",
              "    </tr>\n",
              "  </tbody>\n",
              "</table>\n",
              "<p>1332 rows × 10 columns</p>\n",
              "</div>\n",
              "      <button class=\"colab-df-convert\" onclick=\"convertToInteractive('df-761621f1-43df-417b-ba88-f12f5b98f095')\"\n",
              "              title=\"Convert this dataframe to an interactive table.\"\n",
              "              style=\"display:none;\">\n",
              "        \n",
              "  <svg xmlns=\"http://www.w3.org/2000/svg\" height=\"24px\"viewBox=\"0 0 24 24\"\n",
              "       width=\"24px\">\n",
              "    <path d=\"M0 0h24v24H0V0z\" fill=\"none\"/>\n",
              "    <path d=\"M18.56 5.44l.94 2.06.94-2.06 2.06-.94-2.06-.94-.94-2.06-.94 2.06-2.06.94zm-11 1L8.5 8.5l.94-2.06 2.06-.94-2.06-.94L8.5 2.5l-.94 2.06-2.06.94zm10 10l.94 2.06.94-2.06 2.06-.94-2.06-.94-.94-2.06-.94 2.06-2.06.94z\"/><path d=\"M17.41 7.96l-1.37-1.37c-.4-.4-.92-.59-1.43-.59-.52 0-1.04.2-1.43.59L10.3 9.45l-7.72 7.72c-.78.78-.78 2.05 0 2.83L4 21.41c.39.39.9.59 1.41.59.51 0 1.02-.2 1.41-.59l7.78-7.78 2.81-2.81c.8-.78.8-2.07 0-2.86zM5.41 20L4 18.59l7.72-7.72 1.47 1.35L5.41 20z\"/>\n",
              "  </svg>\n",
              "      </button>\n",
              "      \n",
              "  <style>\n",
              "    .colab-df-container {\n",
              "      display:flex;\n",
              "      flex-wrap:wrap;\n",
              "      gap: 12px;\n",
              "    }\n",
              "\n",
              "    .colab-df-convert {\n",
              "      background-color: #E8F0FE;\n",
              "      border: none;\n",
              "      border-radius: 50%;\n",
              "      cursor: pointer;\n",
              "      display: none;\n",
              "      fill: #1967D2;\n",
              "      height: 32px;\n",
              "      padding: 0 0 0 0;\n",
              "      width: 32px;\n",
              "    }\n",
              "\n",
              "    .colab-df-convert:hover {\n",
              "      background-color: #E2EBFA;\n",
              "      box-shadow: 0px 1px 2px rgba(60, 64, 67, 0.3), 0px 1px 3px 1px rgba(60, 64, 67, 0.15);\n",
              "      fill: #174EA6;\n",
              "    }\n",
              "\n",
              "    [theme=dark] .colab-df-convert {\n",
              "      background-color: #3B4455;\n",
              "      fill: #D2E3FC;\n",
              "    }\n",
              "\n",
              "    [theme=dark] .colab-df-convert:hover {\n",
              "      background-color: #434B5C;\n",
              "      box-shadow: 0px 1px 3px 1px rgba(0, 0, 0, 0.15);\n",
              "      filter: drop-shadow(0px 1px 2px rgba(0, 0, 0, 0.3));\n",
              "      fill: #FFFFFF;\n",
              "    }\n",
              "  </style>\n",
              "\n",
              "      <script>\n",
              "        const buttonEl =\n",
              "          document.querySelector('#df-761621f1-43df-417b-ba88-f12f5b98f095 button.colab-df-convert');\n",
              "        buttonEl.style.display =\n",
              "          google.colab.kernel.accessAllowed ? 'block' : 'none';\n",
              "\n",
              "        async function convertToInteractive(key) {\n",
              "          const element = document.querySelector('#df-761621f1-43df-417b-ba88-f12f5b98f095');\n",
              "          const dataTable =\n",
              "            await google.colab.kernel.invokeFunction('convertToInteractive',\n",
              "                                                     [key], {});\n",
              "          if (!dataTable) return;\n",
              "\n",
              "          const docLinkHtml = 'Like what you see? Visit the ' +\n",
              "            '<a target=\"_blank\" href=https://colab.research.google.com/notebooks/data_table.ipynb>data table notebook</a>'\n",
              "            + ' to learn more about interactive tables.';\n",
              "          element.innerHTML = '';\n",
              "          dataTable['output_type'] = 'display_data';\n",
              "          await google.colab.output.renderOutput(dataTable, element);\n",
              "          const docLink = document.createElement('div');\n",
              "          docLink.innerHTML = docLinkHtml;\n",
              "          element.appendChild(docLink);\n",
              "        }\n",
              "      </script>\n",
              "    </div>\n",
              "  </div>\n",
              "  "
            ]
          },
          "metadata": {}
        }
      ]
    },
    {
      "cell_type": "code",
      "source": [
        "train_ids = train_slices[\"Binary Rating\"]"
      ],
      "metadata": {
        "id": "EagRFrI9rbNn"
      },
      "execution_count": null,
      "outputs": []
    },
    {
      "cell_type": "code",
      "execution_count": null,
      "metadata": {
        "id": "2wVB05cRdZdL",
        "colab": {
          "base_uri": "https://localhost:8080/"
        },
        "outputId": "964fa9cb-0c72-44f4-a795-89059aa34654"
      },
      "outputs": [
        {
          "output_type": "stream",
          "name": "stdout",
          "text": [
            "42/42 [==============================] - 7s 5ms/step\n"
          ]
        }
      ],
      "source": [
        "###### Retrieve the embeddings, run KNN analysis, and print tsne for TRAINING AND VALIDATION DATA COMBINED #####\n",
        "# First, need to extract only training and validation indices from all data\n",
        "##### Run all data (testing, training, and validation) to retrieve embeddings and plot tsne #####                               USE THIS ONE! :)\n",
        "# read in file with all of the data\n",
        "\n",
        "#total = pd.read_csv(\"/content/drive/MyDrive/MedIx REU/Datasets/Amal/CNN/Malignancy/1332_images_71X71.csv\")\n",
        "#total_ids = total['InstanceID']\n",
        "#total_images = total.drop(['InstanceID','Binary_Rating_Mal'], axis=1)\n",
        "#print(total_images.head(5))\n",
        "\n",
        "total_data = np.array(train_images).reshape(-1,71,71,1)\n",
        "\n",
        "\n",
        "# get the embeddings\n",
        "#total_embeddings_before = model.predict(total_data)\n",
        "total_embeddings_before = feature_extractor.predict(total_data)\n",
        "#total_embeddings2 = (total_embeddings_before[0] - total_embeddings_before[0].min()) / (total_embeddings_before[0].max() - total_embeddings_before[0].min())\n",
        "total_embeddings2 = (total_embeddings_before - total_embeddings_before.min()) / (total_embeddings_before.max() - total_embeddings_before.min())\n",
        "tot_embedded2 = TSNE(n_components=2,random_state=2).fit_transform(total_embeddings2)"
      ]
    },
    {
      "cell_type": "code",
      "source": [
        "agreements = train_slices['Agreement']\n",
        "radio_classes = [0, 1, 2, 3]\n",
        "radio_names = ['No Radiologist Agreement', 'Low Radiologist Agreement', 'High Radiologist Agreement', 'All Radiologists Agree']"
      ],
      "metadata": {
        "id": "yFG4ipa4MFKC"
      },
      "execution_count": null,
      "outputs": []
    },
    {
      "cell_type": "code",
      "source": [
        "# Fit centroids to dataset\n",
        "centers = 1\n",
        "kmeans = KMeans(n_clusters=centers)\n",
        "kmeans.fit(tot_embedded2)\n",
        "#centroid = kmeans.evaluate(df_feature)\n",
        "centroid = kmeans.centroids"
      ],
      "metadata": {
        "id": "J5c2Y0QsMPAH"
      },
      "execution_count": null,
      "outputs": []
    },
    {
      "cell_type": "code",
      "source": [
        "centroid"
      ],
      "metadata": {
        "colab": {
          "base_uri": "https://localhost:8080/"
        },
        "id": "vrcxLa2QCnEQ",
        "outputId": "38228158-7634-4645-99ad-aa8ee53f40d2"
      },
      "execution_count": null,
      "outputs": [
        {
          "output_type": "execute_result",
          "data": {
            "text/plain": [
              "[array([-0.56390077,  0.01064347], dtype=float32)]"
            ]
          },
          "metadata": {},
          "execution_count": 17
        }
      ]
    },
    {
      "cell_type": "code",
      "source": [
        "dist = kmeans.euclidean(centroid, tot_embedded2)"
      ],
      "metadata": {
        "id": "RmrLmzcrMTeN"
      },
      "execution_count": null,
      "outputs": []
    },
    {
      "cell_type": "code",
      "source": [
        "df_distance = pd.DataFrame()\n",
        "df_distance['InstanceID'] = train_slices['InstanceID']\n",
        "df_distance['Agreement'] = train_slices['machine_Agreement']\n",
        "df_distance['Distance'] = dist\n",
        "df_distance['Spiculation'] = train_ids\n",
        "display(df_distance)"
      ],
      "metadata": {
        "colab": {
          "base_uri": "https://localhost:8080/",
          "height": 411
        },
        "id": "upgVf1MWMgf0",
        "outputId": "bd49f3d4-2e4d-4072-c437-b5b93517fe50"
      },
      "execution_count": null,
      "outputs": [
        {
          "output_type": "display_data",
          "data": {
            "text/plain": [
              "      InstanceID                    Agreement   Distance  Spiculation\n",
              "0           4732   Low Radiologists Agreement  24.326654            3\n",
              "1          28743   Low Radiologists Agreement   9.072717            3\n",
              "2          24119   Low Radiologists Agreement  21.575397            3\n",
              "3          21366   Low Radiologists Agreement  10.949515            3\n",
              "4          26447   Low Radiologists Agreement  21.121994            3\n",
              "...          ...                          ...        ...          ...\n",
              "1327       35200   Low Radiologists Agreement  26.650152            3\n",
              "1328       39596   Low Radiologists Agreement  16.357876            3\n",
              "1329       26626  High Radiologists Agreement   9.164493            2\n",
              "1330        3308  High Radiologists Agreement  14.873689            2\n",
              "1331       38933  High Radiologists Agreement  16.142969            2\n",
              "\n",
              "[1332 rows x 4 columns]"
            ],
            "text/html": [
              "\n",
              "  <div id=\"df-5c42f64b-7798-4187-a6a0-6e2d95e5ca40\">\n",
              "    <div class=\"colab-df-container\">\n",
              "      <div>\n",
              "<style scoped>\n",
              "    .dataframe tbody tr th:only-of-type {\n",
              "        vertical-align: middle;\n",
              "    }\n",
              "\n",
              "    .dataframe tbody tr th {\n",
              "        vertical-align: top;\n",
              "    }\n",
              "\n",
              "    .dataframe thead th {\n",
              "        text-align: right;\n",
              "    }\n",
              "</style>\n",
              "<table border=\"1\" class=\"dataframe\">\n",
              "  <thead>\n",
              "    <tr style=\"text-align: right;\">\n",
              "      <th></th>\n",
              "      <th>InstanceID</th>\n",
              "      <th>Agreement</th>\n",
              "      <th>Distance</th>\n",
              "      <th>Spiculation</th>\n",
              "    </tr>\n",
              "  </thead>\n",
              "  <tbody>\n",
              "    <tr>\n",
              "      <th>0</th>\n",
              "      <td>4732</td>\n",
              "      <td>Low Radiologists Agreement</td>\n",
              "      <td>24.326654</td>\n",
              "      <td>3</td>\n",
              "    </tr>\n",
              "    <tr>\n",
              "      <th>1</th>\n",
              "      <td>28743</td>\n",
              "      <td>Low Radiologists Agreement</td>\n",
              "      <td>9.072717</td>\n",
              "      <td>3</td>\n",
              "    </tr>\n",
              "    <tr>\n",
              "      <th>2</th>\n",
              "      <td>24119</td>\n",
              "      <td>Low Radiologists Agreement</td>\n",
              "      <td>21.575397</td>\n",
              "      <td>3</td>\n",
              "    </tr>\n",
              "    <tr>\n",
              "      <th>3</th>\n",
              "      <td>21366</td>\n",
              "      <td>Low Radiologists Agreement</td>\n",
              "      <td>10.949515</td>\n",
              "      <td>3</td>\n",
              "    </tr>\n",
              "    <tr>\n",
              "      <th>4</th>\n",
              "      <td>26447</td>\n",
              "      <td>Low Radiologists Agreement</td>\n",
              "      <td>21.121994</td>\n",
              "      <td>3</td>\n",
              "    </tr>\n",
              "    <tr>\n",
              "      <th>...</th>\n",
              "      <td>...</td>\n",
              "      <td>...</td>\n",
              "      <td>...</td>\n",
              "      <td>...</td>\n",
              "    </tr>\n",
              "    <tr>\n",
              "      <th>1327</th>\n",
              "      <td>35200</td>\n",
              "      <td>Low Radiologists Agreement</td>\n",
              "      <td>26.650152</td>\n",
              "      <td>3</td>\n",
              "    </tr>\n",
              "    <tr>\n",
              "      <th>1328</th>\n",
              "      <td>39596</td>\n",
              "      <td>Low Radiologists Agreement</td>\n",
              "      <td>16.357876</td>\n",
              "      <td>3</td>\n",
              "    </tr>\n",
              "    <tr>\n",
              "      <th>1329</th>\n",
              "      <td>26626</td>\n",
              "      <td>High Radiologists Agreement</td>\n",
              "      <td>9.164493</td>\n",
              "      <td>2</td>\n",
              "    </tr>\n",
              "    <tr>\n",
              "      <th>1330</th>\n",
              "      <td>3308</td>\n",
              "      <td>High Radiologists Agreement</td>\n",
              "      <td>14.873689</td>\n",
              "      <td>2</td>\n",
              "    </tr>\n",
              "    <tr>\n",
              "      <th>1331</th>\n",
              "      <td>38933</td>\n",
              "      <td>High Radiologists Agreement</td>\n",
              "      <td>16.142969</td>\n",
              "      <td>2</td>\n",
              "    </tr>\n",
              "  </tbody>\n",
              "</table>\n",
              "<p>1332 rows × 4 columns</p>\n",
              "</div>\n",
              "      <button class=\"colab-df-convert\" onclick=\"convertToInteractive('df-5c42f64b-7798-4187-a6a0-6e2d95e5ca40')\"\n",
              "              title=\"Convert this dataframe to an interactive table.\"\n",
              "              style=\"display:none;\">\n",
              "        \n",
              "  <svg xmlns=\"http://www.w3.org/2000/svg\" height=\"24px\"viewBox=\"0 0 24 24\"\n",
              "       width=\"24px\">\n",
              "    <path d=\"M0 0h24v24H0V0z\" fill=\"none\"/>\n",
              "    <path d=\"M18.56 5.44l.94 2.06.94-2.06 2.06-.94-2.06-.94-.94-2.06-.94 2.06-2.06.94zm-11 1L8.5 8.5l.94-2.06 2.06-.94-2.06-.94L8.5 2.5l-.94 2.06-2.06.94zm10 10l.94 2.06.94-2.06 2.06-.94-2.06-.94-.94-2.06-.94 2.06-2.06.94z\"/><path d=\"M17.41 7.96l-1.37-1.37c-.4-.4-.92-.59-1.43-.59-.52 0-1.04.2-1.43.59L10.3 9.45l-7.72 7.72c-.78.78-.78 2.05 0 2.83L4 21.41c.39.39.9.59 1.41.59.51 0 1.02-.2 1.41-.59l7.78-7.78 2.81-2.81c.8-.78.8-2.07 0-2.86zM5.41 20L4 18.59l7.72-7.72 1.47 1.35L5.41 20z\"/>\n",
              "  </svg>\n",
              "      </button>\n",
              "      \n",
              "  <style>\n",
              "    .colab-df-container {\n",
              "      display:flex;\n",
              "      flex-wrap:wrap;\n",
              "      gap: 12px;\n",
              "    }\n",
              "\n",
              "    .colab-df-convert {\n",
              "      background-color: #E8F0FE;\n",
              "      border: none;\n",
              "      border-radius: 50%;\n",
              "      cursor: pointer;\n",
              "      display: none;\n",
              "      fill: #1967D2;\n",
              "      height: 32px;\n",
              "      padding: 0 0 0 0;\n",
              "      width: 32px;\n",
              "    }\n",
              "\n",
              "    .colab-df-convert:hover {\n",
              "      background-color: #E2EBFA;\n",
              "      box-shadow: 0px 1px 2px rgba(60, 64, 67, 0.3), 0px 1px 3px 1px rgba(60, 64, 67, 0.15);\n",
              "      fill: #174EA6;\n",
              "    }\n",
              "\n",
              "    [theme=dark] .colab-df-convert {\n",
              "      background-color: #3B4455;\n",
              "      fill: #D2E3FC;\n",
              "    }\n",
              "\n",
              "    [theme=dark] .colab-df-convert:hover {\n",
              "      background-color: #434B5C;\n",
              "      box-shadow: 0px 1px 3px 1px rgba(0, 0, 0, 0.15);\n",
              "      filter: drop-shadow(0px 1px 2px rgba(0, 0, 0, 0.3));\n",
              "      fill: #FFFFFF;\n",
              "    }\n",
              "  </style>\n",
              "\n",
              "      <script>\n",
              "        const buttonEl =\n",
              "          document.querySelector('#df-5c42f64b-7798-4187-a6a0-6e2d95e5ca40 button.colab-df-convert');\n",
              "        buttonEl.style.display =\n",
              "          google.colab.kernel.accessAllowed ? 'block' : 'none';\n",
              "\n",
              "        async function convertToInteractive(key) {\n",
              "          const element = document.querySelector('#df-5c42f64b-7798-4187-a6a0-6e2d95e5ca40');\n",
              "          const dataTable =\n",
              "            await google.colab.kernel.invokeFunction('convertToInteractive',\n",
              "                                                     [key], {});\n",
              "          if (!dataTable) return;\n",
              "\n",
              "          const docLinkHtml = 'Like what you see? Visit the ' +\n",
              "            '<a target=\"_blank\" href=https://colab.research.google.com/notebooks/data_table.ipynb>data table notebook</a>'\n",
              "            + ' to learn more about interactive tables.';\n",
              "          element.innerHTML = '';\n",
              "          dataTable['output_type'] = 'display_data';\n",
              "          await google.colab.output.renderOutput(dataTable, element);\n",
              "          const docLink = document.createElement('div');\n",
              "          docLink.innerHTML = docLinkHtml;\n",
              "          element.appendChild(docLink);\n",
              "        }\n",
              "      </script>\n",
              "    </div>\n",
              "  </div>\n",
              "  "
            ]
          },
          "metadata": {}
        }
      ]
    },
    {
      "cell_type": "code",
      "source": [
        "df_distance.to_csv(\"/content/drive/MyDrive/MedIx REU/Datasets/Amal/CNN/Malignancy/machine_CNN_mal_var_distance.csv\")"
      ],
      "metadata": {
        "id": "ol-_8W-sMmFy"
      },
      "execution_count": null,
      "outputs": []
    },
    {
      "cell_type": "code",
      "source": [
        "plt.rcParams[\"figure.figsize\"] = [9.50, 7.50]\n",
        "plt.rcParams[\"figure.autolayout\"] = True\n",
        "#df.plot(figsize=(20,20))\n",
        "\n",
        "axes = df_distance.boxplot(by='Agreement',column =['Distance'], showmeans=True, showfliers=True, grid= False)\n",
        "axes.set_title('')\n",
        "plt.title('')\n",
        "plt.suptitle('')\n",
        "#plt.ylim([0.0, 1.0])\n",
        "plt.ylabel(\"Distance from the Centroid\", fontdict={'fontsize':15})\n",
        "plt.xlabel(\"Agreement\", fontdict={'fontsize':15})\n",
        "#plt.xticks([0,1, 2, 3],['No Radiologist Agreement', 'Low Radiologist Agreement', 'High Radiologist Agreement', 'All Radiologists Agree'])\n",
        "plt.show()"
      ],
      "metadata": {
        "colab": {
          "base_uri": "https://localhost:8080/",
          "height": 742
        },
        "id": "JCP12jp3Mxp8",
        "outputId": "d15be7ac-7c58-4f80-dfed-a0a64e890339"
      },
      "execution_count": null,
      "outputs": [
        {
          "output_type": "display_data",
          "data": {
            "text/plain": [
              "<Figure size 950x750 with 1 Axes>"
            ],
            "image/png": "[encoded data removed]"
          },
          "metadata": {}
        }
      ]
    },
    {
      "cell_type": "code",
      "source": [
        "m1 = df_distance.groupby(['Agreement'])['Distance'].mean().values\n",
        "print(m1)"
      ],
      "metadata": {
        "colab": {
          "base_uri": "https://localhost:8080/"
        },
        "id": "-sZkEfAuM5S2",
        "outputId": "65353f04-ed0d-4f73-c0f9-7adcb45ae36c"
      },
      "execution_count": null,
      "outputs": [
        {
          "output_type": "stream",
          "name": "stdout",
          "text": [
            "[21.935522 16.597    15.681139 15.767831]\n"
          ]
        }
      ]
    },
    {
      "cell_type": "code",
      "source": [
        "m2 = df_distance.groupby(['Agreement'])['Distance'].median().values\n",
        "print(m2)"
      ],
      "metadata": {
        "colab": {
          "base_uri": "https://localhost:8080/"
        },
        "id": "zATLN3VsM7xM",
        "outputId": "76b6cd6e-0fff-41bc-f91d-4d30a2a7f9d3"
      },
      "execution_count": null,
      "outputs": [
        {
          "output_type": "stream",
          "name": "stdout",
          "text": [
            "[23.60008  16.908764 15.918507 15.671546]\n"
          ]
        }
      ]
    },
    {
      "cell_type": "code",
      "source": [
        "plt.rcParams[\"figure.figsize\"] = [9.50, 7.50]\n",
        "plt.rcParams[\"figure.autolayout\"] = True\n",
        "#df.plot(figsize=(20,20))\n",
        "\n",
        "axes = df_distance.boxplot(by='Spiculation',column =['Distance'], showmeans=True, showfliers=True, grid= False)\n",
        "axes.set_title('')\n",
        "plt.title('')\n",
        "plt.suptitle('')\n",
        "\n",
        "plt.ylabel(\"Distance from the Centroid\", fontdict={'fontsize':15})\n",
        "plt.xlabel(\"Malignancy\", fontdict={'fontsize':15})\n",
        "plt.xticks([1, 2, 3,4], ['Not Malignant','Malignant', 'Indeterminate','Evaluation on low/No Agreement'])\n",
        "plt.show()"
      ],
      "metadata": {
        "id": "6mMYY9QkocRx",
        "outputId": "96083309-2d9a-4c61-dbd2-9358a76ce855",
        "colab": {
          "base_uri": "https://localhost:8080/",
          "height": 741
        }
      },
      "execution_count": null,
      "outputs": [
        {
          "output_type": "display_data",
          "data": {
            "text/plain": [
              "<Figure size 950x750 with 1 Axes>"
            ],
            "image/png": "[encoded data removed]"
          },
          "metadata": {}
        }
      ]
    },
    {
      "cell_type": "code",
      "source": [
        "m1 = df_distance.groupby(['Spiculation'])['Distance'].mean().values\n",
        "print(m1)\n",
        "m2 = df_distance.groupby(['Spiculation'])['Distance'].median().values\n",
        "print(m2)"
      ],
      "metadata": {
        "colab": {
          "base_uri": "https://localhost:8080/"
        },
        "id": "PSRo3lwWoKJc",
        "outputId": "60c2bd18-5132-4880-a3d9-6738abbdb906"
      },
      "execution_count": null,
      "outputs": [
        {
          "output_type": "stream",
          "name": "stdout",
          "text": [
            "[20.517574  15.364728  15.6264515 15.695412 ]\n",
            "[22.686491 14.729558 15.399168 15.894581]\n"
          ]
        }
      ]
    }
  ],
  "metadata": {
    "accelerator": "GPU",
    "colab": {
      "machine_shape": "hm",
      "provenance": [],
      "mount_file_id": "17yD4cDMduSLFAi8oiqQflUBntWkrQCrV",
      "authorship_tag": "ABX9TyMOUzffD6QiCQShSVGtCrLa",
      "include_colab_link": true
    },
    "kernelspec": {
      "display_name": "Python 3",
      "name": "python3"
    },
    "language_info": {
      "name": "python"
    }
  },
  "nbformat": 4,
  "nbformat_minor": 0
}