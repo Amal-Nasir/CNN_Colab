{
  "cells": [
    {
      "cell_type": "markdown",
      "metadata": {
        "id": "view-in-github",
        "colab_type": "text"
      },
      "source": [
        "<a href=\"https://colab.research.google.com/github/Amal-Nasir/CNN_Colab/blob/main/CNN_Spic_Variance.ipynb\" target=\"_parent\"><img src=\"https://colab.research.google.com/assets/colab-badge.svg\" alt=\"Open In Colab\"/></a>"
      ]
    },
    {
      "cell_type": "code",
      "execution_count": null,
      "metadata": {
        "colab": {
          "base_uri": "https://localhost:8080/"
        },
        "id": "iapjMoGoR5U3",
        "outputId": "ce5ea545-6e60-4d9e-8b5e-f133f6b23ba8"
      },
      "outputs": [
        {
          "output_type": "stream",
          "name": "stdout",
          "text": [
            "Drive already mounted at /content/drive; to attempt to forcibly remount, call drive.mount(\"/content/drive\", force_remount=True).\n"
          ]
        }
      ],
      "source": [
        "from google.colab import drive\n",
        "drive.mount('/content/drive')"
      ]
    },
    {
      "cell_type": "code",
      "execution_count": null,
      "metadata": {
        "colab": {
          "base_uri": "https://localhost:8080/"
        },
        "id": "xBss2yWg5aNV",
        "outputId": "d30ef827-0a29-41e7-cf53-e050e7caa65f"
      },
      "outputs": [
        {
          "output_type": "stream",
          "name": "stdout",
          "text": [
            "[Errno 2] No such file or directory: 'content/drive/MyDrive/MedIx REU/Datasets'\n",
            "/content/drive/My Drive/MedIx REU\n"
          ]
        }
      ],
      "source": [
        "cd content/drive/MyDrive/MedIx\\ REU/Datasets"
      ]
    },
    {
      "cell_type": "code",
      "execution_count": null,
      "metadata": {
        "id": "EOM6ZwEeZAAT"
      },
      "outputs": [],
      "source": [
        "from __future__ import absolute_import\n",
        "from __future__ import print_function\n",
        "import tensorflow as tf\n",
        "import numpy as np  # linear alg\n",
        "import pandas as pd  # data processing, CSV file I/O (e.g. pd.read_csv)\n",
        "import random\n",
        "import keras\n",
        "import matplotlib.pyplot as plt\n",
        "from keras.models import Model\n",
        "from keras.layers import Input, Flatten, Dense, Dropout, Lambda\n",
        "from keras import backend as K\n",
        "from sklearn.metrics import confusion_matrix\n",
        "from sklearn.model_selection import train_test_split # for splitting the data into train and test samples\n",
        "from sklearn.metrics import classification_report # for model evaluation metrics\n",
        "from sklearn.svm import SVC # for Support Vector Classification model\n",
        "import os\n",
        "from os import path"
      ]
    },
    {
      "cell_type": "code",
      "source": [
        "from sklearn.preprocessing import StandardScaler\n",
        "\n",
        "class KMeans:\n",
        "    def __init__(self, n_clusters=8, max_iter=1000):\n",
        "        self.n_clusters = n_clusters\n",
        "        self.max_iter = max_iter\n",
        "    def fit(self, X_train):\n",
        "        # Initialize the centroids, using the \"k-means++\" method, where a random datapoint is selected as the first,\n",
        "        # then the rest are initialized w/ probabilities proportional to their distances to the first\n",
        "        # Pick a random point from train data for first centroid\n",
        "        self.centroids = [random.choice(X_train)]\n",
        "        for _ in range(self.n_clusters-1):\n",
        "            # Calculate distances from points to the centroids\n",
        "            dists = np.sum([self.euclidean(centroid, X_train) for centroid in self.centroids], axis=0)\n",
        "            # Normalize the distances\n",
        "            dists /= np.sum(dists)\n",
        "            # Choose remaining points based on their distances\n",
        "            new_centroid_idx, = np.random.choice(range(len(X_train)), size=1, p=dists)\n",
        "            self.centroids += [X_train[new_centroid_idx]]\n",
        "        # This initial method of randomly selecting centroid starts is less effective\n",
        "        # min_, max_ = np.min(X_train, axis=0), np.max(X_train, axis=0)\n",
        "        # self.centroids = [uniform(min_, max_) for _ in range(self.n_clusters)]\n",
        "        # Iterate, adjusting centroids until converged or until passed max_iter\n",
        "        iteration = 0\n",
        "        prev_centroids = None\n",
        "        while np.not_equal(self.centroids, prev_centroids).any() and iteration < self.max_iter:\n",
        "            # Sort each datapoint, assigning to nearest centroid\n",
        "            sorted_points = [[] for _ in range(self.n_clusters)]\n",
        "            for x in X_train:\n",
        "                dists = self.euclidean(x, self.centroids)\n",
        "                centroid_idx = np.argmin(dists)\n",
        "                sorted_points[centroid_idx].append(x)\n",
        "            # Push current centroids to previous, reassign centroids as mean of the points belonging to them\n",
        "            prev_centroids = self.centroids\n",
        "            self.centroids = [np.mean(cluster, axis=0) for cluster in sorted_points]\n",
        "            for i, centroid in enumerate(self.centroids):\n",
        "                if np.isnan(centroid).any():  # Catch any np.nans, resulting from a centroid having no points\n",
        "                    self.centroids[i] = prev_centroids[i]\n",
        "            iteration += 1\n",
        "    def evaluate(self, X):\n",
        "        centroids = []\n",
        "        centroid_idxs = []\n",
        "        for x in X:\n",
        "            dists = self.euclidean(x, self.centroids)\n",
        "            centroid_idx = np.argmin(dists)\n",
        "            centroids.append(self.centroids[centroid_idx])\n",
        "            centroid_idxs.append(centroid_idx)\n",
        "        return centroids, centroid_idxs\n",
        "\n",
        "    def euclidean(self, point, data):\n",
        "        \"\"\"\n",
        "        Euclidean distance between point & data.\n",
        "        Point has dimensions (m,), data has dimensions (n,m), and output will be of size (n,).\n",
        "        \"\"\"\n",
        "        return np.sqrt(np.sum((point - data)**2, axis=1))"
      ],
      "metadata": {
        "id": "f6ba8EXDr26H"
      },
      "execution_count": null,
      "outputs": []
    },
    {
      "cell_type": "code",
      "execution_count": null,
      "metadata": {
        "id": "U6Y50Yu9cZuN"
      },
      "outputs": [],
      "source": [
        "##### Import Trained Model #####\n",
        "model = keras.models.load_model(\"/content/drive/MyDrive/MedIx REU/Datasets/Amal/CNN/Spiculation/CNN_model_All\" , compile = True)"
      ]
    },
    {
      "cell_type": "code",
      "execution_count": null,
      "metadata": {
        "id": "_i3_1XSVAYgG",
        "colab": {
          "base_uri": "https://localhost:8080/"
        },
        "outputId": "4ad4fa82-d288-4e99-955e-5b153a299fa7"
      },
      "outputs": [
        {
          "output_type": "stream",
          "name": "stdout",
          "text": [
            "Model: \"sequential\"\n",
            "_________________________________________________________________\n",
            " Layer (type)                Output Shape              Param #   \n",
            "=================================================================\n",
            " conv2d (Conv2D)             (None, 69, 69, 32)        320       \n",
            "                                                                 \n",
            " max_pooling2d (MaxPooling2D  (None, 34, 34, 32)       0         \n",
            " )                                                               \n",
            "                                                                 \n",
            " conv2d_1 (Conv2D)           (None, 32, 32, 64)        18496     \n",
            "                                                                 \n",
            " max_pooling2d_1 (MaxPooling  (None, 16, 16, 64)       0         \n",
            " 2D)                                                             \n",
            "                                                                 \n",
            " conv2d_2 (Conv2D)           (None, 14, 14, 64)        36928     \n",
            "                                                                 \n",
            " flatten (Flatten)           (None, 12544)             0         \n",
            "                                                                 \n",
            " dense (Dense)               (None, 512)               6423040   \n",
            "                                                                 \n",
            " dense_1 (Dense)             (None, 2)                 1026      \n",
            "                                                                 \n",
            "=================================================================\n",
            "Total params: 6,479,810\n",
            "Trainable params: 6,479,810\n",
            "Non-trainable params: 0\n",
            "_________________________________________________________________\n"
          ]
        }
      ],
      "source": [
        "model.summary()"
      ]
    },
    {
      "cell_type": "code",
      "execution_count": null,
      "metadata": {
        "id": "QPu9bi7Vtk-Z"
      },
      "outputs": [],
      "source": [
        "feature_extractor = keras.Model(\n",
        "    inputs=model.inputs,\n",
        "    outputs=model.get_layer(name=\"flatten\").output)"
      ]
    },
    {
      "cell_type": "code",
      "execution_count": null,
      "metadata": {
        "id": "mIC87zZNtsG7",
        "colab": {
          "base_uri": "https://localhost:8080/"
        },
        "outputId": "44287d2c-312d-41a5-e3b1-aa891c0ec2ef"
      },
      "outputs": [
        {
          "output_type": "stream",
          "name": "stdout",
          "text": [
            "Model: \"model_1\"\n",
            "_________________________________________________________________\n",
            " Layer (type)                Output Shape              Param #   \n",
            "=================================================================\n",
            " conv2d_input (InputLayer)   [(None, 71, 71, 1)]       0         \n",
            "                                                                 \n",
            " conv2d (Conv2D)             (None, 69, 69, 32)        320       \n",
            "                                                                 \n",
            " max_pooling2d (MaxPooling2D  (None, 34, 34, 32)       0         \n",
            " )                                                               \n",
            "                                                                 \n",
            " conv2d_1 (Conv2D)           (None, 32, 32, 64)        18496     \n",
            "                                                                 \n",
            " max_pooling2d_1 (MaxPooling  (None, 16, 16, 64)       0         \n",
            " 2D)                                                             \n",
            "                                                                 \n",
            " conv2d_2 (Conv2D)           (None, 14, 14, 64)        36928     \n",
            "                                                                 \n",
            " flatten (Flatten)           (None, 12544)             0         \n",
            "                                                                 \n",
            "=================================================================\n",
            "Total params: 55,744\n",
            "Trainable params: 55,744\n",
            "Non-trainable params: 0\n",
            "_________________________________________________________________\n"
          ]
        }
      ],
      "source": [
        "feature_extractor.summary()"
      ]
    },
    {
      "cell_type": "code",
      "execution_count": null,
      "metadata": {
        "id": "HdHT8Nc1Rv7C"
      },
      "outputs": [],
      "source": [
        "def getNormed(this_array, this_min = 0, this_max = 255, set_to_int = True):\n",
        "    new_var = this_array.copy()\n",
        "    rat = (this_max - this_min)/(new_var.max() - new_var.min())\n",
        "    new_var = new_var * rat\n",
        "    new_var -= new_var.min()\n",
        "    new_var += this_min\n",
        "    if set_to_int:\n",
        "        return new_var.astype('uint8')\n",
        "    return new_var"
      ]
    },
    {
      "cell_type": "code",
      "execution_count": null,
      "metadata": {
        "id": "rOc50noJNm82",
        "colab": {
          "base_uri": "https://localhost:8080/"
        },
        "outputId": "73762e83-5de1-4f7f-c498-80d8064dec9b"
      },
      "outputs": [
        {
          "output_type": "stream",
          "name": "stdout",
          "text": [
            "/content/drive/MyDrive/MedIx REU/Datasets/Amal/images_1332\n",
            "Malignancy_5\n",
            "Malignancy_1\n",
            "Malignancy_4\n",
            "Malignancy_2\n",
            "Malignancy_3\n"
          ]
        }
      ],
      "source": [
        "total = pd.read_csv(\"/content/drive/MyDrive/MedIx REU/Datasets/Amal/CNN/Spiculation/Agreement_Binary_Rating.csv\")\n",
        "total_nod = total['noduleID']\n",
        "total_nod = np.array(total_nod)\n",
        "\n",
        "image_folder = '/content/drive/MyDrive/MedIx REU/Datasets/Amal/images_1332'\n",
        "train_images = []\n",
        "train_noduleId = []\n",
        "print(image_folder)\n",
        "\n",
        "for dir1 in os.listdir(image_folder):\n",
        "    print(dir1)\n",
        "    if not dir1.startswith('.'):\n",
        "        for file in os.listdir(os.path.join(image_folder, dir1)):\n",
        "            #print(file)\n",
        "            noduleID = file.split('.')[0]\n",
        "            if not file.startswith('.'):\n",
        "                noduleID = int(noduleID)\n",
        "                train_noduleId.append(noduleID)\n",
        "                temp_image = np.loadtxt(os.path.join(image_folder, dir1,file))\n",
        "                temp_image = getNormed(temp_image)\n",
        "                train_images.append(temp_image)"
      ]
    },
    {
      "cell_type": "code",
      "execution_count": null,
      "metadata": {
        "id": "kuR0NbKkOSxl",
        "colab": {
          "base_uri": "https://localhost:8080/"
        },
        "outputId": "8b65499c-3cd4-4641-ae18-010cf77e2aa1"
      },
      "outputs": [
        {
          "output_type": "stream",
          "name": "stdout",
          "text": [
            "      noduleID\n",
            "0          324\n",
            "1         1888\n",
            "2         1606\n",
            "3         1427\n",
            "4         1760\n",
            "...        ...\n",
            "1327      2301\n",
            "1328      2583\n",
            "1329      1772\n",
            "1330       231\n",
            "1331      2540\n",
            "\n",
            "[1332 rows x 1 columns]\n"
          ]
        }
      ],
      "source": [
        "tr_df = pd.DataFrame(train_noduleId,columns =['noduleID'])\n",
        "print(tr_df)"
      ]
    },
    {
      "cell_type": "code",
      "execution_count": null,
      "metadata": {
        "id": "86eRqxN2OUqG",
        "colab": {
          "base_uri": "https://localhost:8080/",
          "height": 419
        },
        "outputId": "63fc5929-4ae9-4fdd-e6fd-2075f0fe568a"
      },
      "outputs": [
        {
          "output_type": "display_data",
          "data": {
            "text/plain": [
              "      noduleID  InstanceID  Dataset  Binary Rating  Bin_Rating  \\\n",
              "0          324        4732        1              2           2   \n",
              "1         1888       28743        1              2           2   \n",
              "2         1606       24119        1              2           2   \n",
              "3         1427       21366        2              1           1   \n",
              "4         1760       26447        2              1           1   \n",
              "...        ...         ...      ...            ...         ...   \n",
              "1327      2301       35200        2              0           0   \n",
              "1328      2583       39596        2              0           0   \n",
              "1329      1772       26626        1              2           2   \n",
              "1330       231        3308        2              1           1   \n",
              "1331      2540       38933        1              2           2   \n",
              "\n",
              "     Binary_Rating_name  Agreement              Agreement_name  Category  \n",
              "0               Unknown          1   Low Radiologist Agreement  Low/None  \n",
              "1               Unknown          1   Low Radiologist Agreement  Low/None  \n",
              "2               Unknown          1   Low Radiologist Agreement  Low/None  \n",
              "3            Spiculated          2  High Radiologist Agreement  Training  \n",
              "4            Spiculated          3   All Radiologist Agreement  Training  \n",
              "...                 ...        ...                         ...       ...  \n",
              "1327     Not Spiculated          2  High Radiologist Agreement  Training  \n",
              "1328     Not Spiculated          2  High Radiologist Agreement  Training  \n",
              "1329            Unknown          1   Low Radiologist Agreement  Low/None  \n",
              "1330         Spiculated          2  High Radiologist Agreement  Training  \n",
              "1331            Unknown          1   Low Radiologist Agreement  Low/None  \n",
              "\n",
              "[1332 rows x 9 columns]"
            ],
            "text/html": [
              "\n",
              "  <div id=\"df-b01cae75-b696-46e8-ae4d-9234e0ce57b8\">\n",
              "    <div class=\"colab-df-container\">\n",
              "      <div>\n",
              "<style scoped>\n",
              "    .dataframe tbody tr th:only-of-type {\n",
              "        vertical-align: middle;\n",
              "    }\n",
              "\n",
              "    .dataframe tbody tr th {\n",
              "        vertical-align: top;\n",
              "    }\n",
              "\n",
              "    .dataframe thead th {\n",
              "        text-align: right;\n",
              "    }\n",
              "</style>\n",
              "<table border=\"1\" class=\"dataframe\">\n",
              "  <thead>\n",
              "    <tr style=\"text-align: right;\">\n",
              "      <th></th>\n",
              "      <th>noduleID</th>\n",
              "      <th>InstanceID</th>\n",
              "      <th>Dataset</th>\n",
              "      <th>Binary Rating</th>\n",
              "      <th>Bin_Rating</th>\n",
              "      <th>Binary_Rating_name</th>\n",
              "      <th>Agreement</th>\n",
              "      <th>Agreement_name</th>\n",
              "      <th>Category</th>\n",
              "    </tr>\n",
              "  </thead>\n",
              "  <tbody>\n",
              "    <tr>\n",
              "      <th>0</th>\n",
              "      <td>324</td>\n",
              "      <td>4732</td>\n",
              "      <td>1</td>\n",
              "      <td>2</td>\n",
              "      <td>2</td>\n",
              "      <td>Unknown</td>\n",
              "      <td>1</td>\n",
              "      <td>Low Radiologist Agreement</td>\n",
              "      <td>Low/None</td>\n",
              "    </tr>\n",
              "    <tr>\n",
              "      <th>1</th>\n",
              "      <td>1888</td>\n",
              "      <td>28743</td>\n",
              "      <td>1</td>\n",
              "      <td>2</td>\n",
              "      <td>2</td>\n",
              "      <td>Unknown</td>\n",
              "      <td>1</td>\n",
              "      <td>Low Radiologist Agreement</td>\n",
              "      <td>Low/None</td>\n",
              "    </tr>\n",
              "    <tr>\n",
              "      <th>2</th>\n",
              "      <td>1606</td>\n",
              "      <td>24119</td>\n",
              "      <td>1</td>\n",
              "      <td>2</td>\n",
              "      <td>2</td>\n",
              "      <td>Unknown</td>\n",
              "      <td>1</td>\n",
              "      <td>Low Radiologist Agreement</td>\n",
              "      <td>Low/None</td>\n",
              "    </tr>\n",
              "    <tr>\n",
              "      <th>3</th>\n",
              "      <td>1427</td>\n",
              "      <td>21366</td>\n",
              "      <td>2</td>\n",
              "      <td>1</td>\n",
              "      <td>1</td>\n",
              "      <td>Spiculated</td>\n",
              "      <td>2</td>\n",
              "      <td>High Radiologist Agreement</td>\n",
              "      <td>Training</td>\n",
              "    </tr>\n",
              "    <tr>\n",
              "      <th>4</th>\n",
              "      <td>1760</td>\n",
              "      <td>26447</td>\n",
              "      <td>2</td>\n",
              "      <td>1</td>\n",
              "      <td>1</td>\n",
              "      <td>Spiculated</td>\n",
              "      <td>3</td>\n",
              "      <td>All Radiologist Agreement</td>\n",
              "      <td>Training</td>\n",
              "    </tr>\n",
              "    <tr>\n",
              "      <th>...</th>\n",
              "      <td>...</td>\n",
              "      <td>...</td>\n",
              "      <td>...</td>\n",
              "      <td>...</td>\n",
              "      <td>...</td>\n",
              "      <td>...</td>\n",
              "      <td>...</td>\n",
              "      <td>...</td>\n",
              "      <td>...</td>\n",
              "    </tr>\n",
              "    <tr>\n",
              "      <th>1327</th>\n",
              "      <td>2301</td>\n",
              "      <td>35200</td>\n",
              "      <td>2</td>\n",
              "      <td>0</td>\n",
              "      <td>0</td>\n",
              "      <td>Not Spiculated</td>\n",
              "      <td>2</td>\n",
              "      <td>High Radiologist Agreement</td>\n",
              "      <td>Training</td>\n",
              "    </tr>\n",
              "    <tr>\n",
              "      <th>1328</th>\n",
              "      <td>2583</td>\n",
              "      <td>39596</td>\n",
              "      <td>2</td>\n",
              "      <td>0</td>\n",
              "      <td>0</td>\n",
              "      <td>Not Spiculated</td>\n",
              "      <td>2</td>\n",
              "      <td>High Radiologist Agreement</td>\n",
              "      <td>Training</td>\n",
              "    </tr>\n",
              "    <tr>\n",
              "      <th>1329</th>\n",
              "      <td>1772</td>\n",
              "      <td>26626</td>\n",
              "      <td>1</td>\n",
              "      <td>2</td>\n",
              "      <td>2</td>\n",
              "      <td>Unknown</td>\n",
              "      <td>1</td>\n",
              "      <td>Low Radiologist Agreement</td>\n",
              "      <td>Low/None</td>\n",
              "    </tr>\n",
              "    <tr>\n",
              "      <th>1330</th>\n",
              "      <td>231</td>\n",
              "      <td>3308</td>\n",
              "      <td>2</td>\n",
              "      <td>1</td>\n",
              "      <td>1</td>\n",
              "      <td>Spiculated</td>\n",
              "      <td>2</td>\n",
              "      <td>High Radiologist Agreement</td>\n",
              "      <td>Training</td>\n",
              "    </tr>\n",
              "    <tr>\n",
              "      <th>1331</th>\n",
              "      <td>2540</td>\n",
              "      <td>38933</td>\n",
              "      <td>1</td>\n",
              "      <td>2</td>\n",
              "      <td>2</td>\n",
              "      <td>Unknown</td>\n",
              "      <td>1</td>\n",
              "      <td>Low Radiologist Agreement</td>\n",
              "      <td>Low/None</td>\n",
              "    </tr>\n",
              "  </tbody>\n",
              "</table>\n",
              "<p>1332 rows × 9 columns</p>\n",
              "</div>\n",
              "      <button class=\"colab-df-convert\" onclick=\"convertToInteractive('df-b01cae75-b696-46e8-ae4d-9234e0ce57b8')\"\n",
              "              title=\"Convert this dataframe to an interactive table.\"\n",
              "              style=\"display:none;\">\n",
              "        \n",
              "  <svg xmlns=\"http://www.w3.org/2000/svg\" height=\"24px\"viewBox=\"0 0 24 24\"\n",
              "       width=\"24px\">\n",
              "    <path d=\"M0 0h24v24H0V0z\" fill=\"none\"/>\n",
              "    <path d=\"M18.56 5.44l.94 2.06.94-2.06 2.06-.94-2.06-.94-.94-2.06-.94 2.06-2.06.94zm-11 1L8.5 8.5l.94-2.06 2.06-.94-2.06-.94L8.5 2.5l-.94 2.06-2.06.94zm10 10l.94 2.06.94-2.06 2.06-.94-2.06-.94-.94-2.06-.94 2.06-2.06.94z\"/><path d=\"M17.41 7.96l-1.37-1.37c-.4-.4-.92-.59-1.43-.59-.52 0-1.04.2-1.43.59L10.3 9.45l-7.72 7.72c-.78.78-.78 2.05 0 2.83L4 21.41c.39.39.9.59 1.41.59.51 0 1.02-.2 1.41-.59l7.78-7.78 2.81-2.81c.8-.78.8-2.07 0-2.86zM5.41 20L4 18.59l7.72-7.72 1.47 1.35L5.41 20z\"/>\n",
              "  </svg>\n",
              "      </button>\n",
              "      \n",
              "  <style>\n",
              "    .colab-df-container {\n",
              "      display:flex;\n",
              "      flex-wrap:wrap;\n",
              "      gap: 12px;\n",
              "    }\n",
              "\n",
              "    .colab-df-convert {\n",
              "      background-color: #E8F0FE;\n",
              "      border: none;\n",
              "      border-radius: 50%;\n",
              "      cursor: pointer;\n",
              "      display: none;\n",
              "      fill: #1967D2;\n",
              "      height: 32px;\n",
              "      padding: 0 0 0 0;\n",
              "      width: 32px;\n",
              "    }\n",
              "\n",
              "    .colab-df-convert:hover {\n",
              "      background-color: #E2EBFA;\n",
              "      box-shadow: 0px 1px 2px rgba(60, 64, 67, 0.3), 0px 1px 3px 1px rgba(60, 64, 67, 0.15);\n",
              "      fill: #174EA6;\n",
              "    }\n",
              "\n",
              "    [theme=dark] .colab-df-convert {\n",
              "      background-color: #3B4455;\n",
              "      fill: #D2E3FC;\n",
              "    }\n",
              "\n",
              "    [theme=dark] .colab-df-convert:hover {\n",
              "      background-color: #434B5C;\n",
              "      box-shadow: 0px 1px 3px 1px rgba(0, 0, 0, 0.15);\n",
              "      filter: drop-shadow(0px 1px 2px rgba(0, 0, 0, 0.3));\n",
              "      fill: #FFFFFF;\n",
              "    }\n",
              "  </style>\n",
              "\n",
              "      <script>\n",
              "        const buttonEl =\n",
              "          document.querySelector('#df-b01cae75-b696-46e8-ae4d-9234e0ce57b8 button.colab-df-convert');\n",
              "        buttonEl.style.display =\n",
              "          google.colab.kernel.accessAllowed ? 'block' : 'none';\n",
              "\n",
              "        async function convertToInteractive(key) {\n",
              "          const element = document.querySelector('#df-b01cae75-b696-46e8-ae4d-9234e0ce57b8');\n",
              "          const dataTable =\n",
              "            await google.colab.kernel.invokeFunction('convertToInteractive',\n",
              "                                                     [key], {});\n",
              "          if (!dataTable) return;\n",
              "\n",
              "          const docLinkHtml = 'Like what you see? Visit the ' +\n",
              "            '<a target=\"_blank\" href=https://colab.research.google.com/notebooks/data_table.ipynb>data table notebook</a>'\n",
              "            + ' to learn more about interactive tables.';\n",
              "          element.innerHTML = '';\n",
              "          dataTable['output_type'] = 'display_data';\n",
              "          await google.colab.output.renderOutput(dataTable, element);\n",
              "          const docLink = document.createElement('div');\n",
              "          docLink.innerHTML = docLinkHtml;\n",
              "          element.appendChild(docLink);\n",
              "        }\n",
              "      </script>\n",
              "    </div>\n",
              "  </div>\n",
              "  "
            ]
          },
          "metadata": {}
        }
      ],
      "source": [
        "train_slices = pd.merge(tr_df, total)\n",
        "display(train_slices)"
      ]
    },
    {
      "cell_type": "code",
      "execution_count": null,
      "metadata": {
        "id": "toE8N_arOpwB"
      },
      "outputs": [],
      "source": [
        "train_ids = train_slices[\"Binary Rating\"]"
      ]
    },
    {
      "cell_type": "code",
      "execution_count": null,
      "metadata": {
        "id": "2wVB05cRdZdL",
        "colab": {
          "base_uri": "https://localhost:8080/"
        },
        "outputId": "8e2dc601-354d-4f7c-e65c-a62c75508460"
      },
      "outputs": [
        {
          "output_type": "stream",
          "name": "stdout",
          "text": [
            "42/42 [==============================] - 0s 2ms/step\n"
          ]
        }
      ],
      "source": [
        "###### Retrieve the embeddings, run KNN analysis, and print tsne for TRAINING AND VALIDATION DATA COMBINED #####\n",
        "# First, need to extract only training and validation indices from all data\n",
        "##### Run all data (testing, training, and validation) to retrieve embeddings and plot tsne #####                               USE THIS ONE! :)\n",
        "# read in file with all of the data\n",
        "\n",
        "#total = pd.read_csv(\"/content/drive/MyDrive/MedIx REU/Datasets/Amal/CNN/Spiculation/1332_images_71X71.csv\")\n",
        "#total_ids = total['InstanceID']\n",
        "\n",
        "#total_images = total.drop(['InstanceID','Binary_Rating_Spic'], axis=1)\n",
        "#print(total_images.head(5))\n",
        "\n",
        "total_data = np.array(train_images).reshape(-1,71,71,1)\n",
        "\n",
        "\n",
        "# get the embeddings feature_extractor\n",
        "total_embeddings_before = feature_extractor.predict(total_data)\n",
        "#total_embeddings_before = model.predict(total_data)\n",
        "#total_embeddings2 = (total_embeddings_before[0] - total_embeddings_before[0].min()) / (total_embeddings_before[0].max() - total_embeddings_before[0].min())\n",
        "total_embeddings2 = (total_embeddings_before - total_embeddings_before.min()) / (total_embeddings_before.max() - total_embeddings_before.min())\n",
        "#tot_embedded2 = TSNE(n_components=2,random_state=2).fit_transform(total_embeddings2)"
      ]
    },
    {
      "cell_type": "code",
      "execution_count": null,
      "metadata": {
        "id": "92rOtxeXrKUp",
        "colab": {
          "base_uri": "https://localhost:8080/"
        },
        "outputId": "749e0c67-50e0-43a6-cbc3-a3544ec34675"
      },
      "outputs": [
        {
          "output_type": "execute_result",
          "data": {
            "text/plain": [
              "(1332, 71, 71, 1)"
            ]
          },
          "metadata": {},
          "execution_count": 165
        }
      ],
      "source": [
        "total_data.shape"
      ]
    },
    {
      "cell_type": "code",
      "execution_count": null,
      "metadata": {
        "id": "SdBlkSq-k2DU",
        "colab": {
          "base_uri": "https://localhost:8080/"
        },
        "outputId": "d5999370-f290-4e0c-c78a-aef497e10f9e"
      },
      "outputs": [
        {
          "output_type": "execute_result",
          "data": {
            "text/plain": [
              "(1332, 12544)"
            ]
          },
          "metadata": {},
          "execution_count": 166
        }
      ],
      "source": [
        "total_embeddings_before.shape"
      ]
    },
    {
      "cell_type": "code",
      "execution_count": null,
      "metadata": {
        "id": "qiketYV1kRJB",
        "colab": {
          "base_uri": "https://localhost:8080/"
        },
        "outputId": "1ae100a8-80ed-44d9-e654-b5c63d81bc6e"
      },
      "outputs": [
        {
          "output_type": "execute_result",
          "data": {
            "text/plain": [
              "(1332, 12544)"
            ]
          },
          "metadata": {},
          "execution_count": 167
        }
      ],
      "source": [
        "total_embeddings2.shape"
      ]
    },
    {
      "cell_type": "code",
      "execution_count": null,
      "metadata": {
        "id": "1s5ZSQTMrAMU",
        "colab": {
          "base_uri": "https://localhost:8080/"
        },
        "outputId": "d092e6ba-9401-4412-8659-151da4ba3f78"
      },
      "outputs": [
        {
          "output_type": "execute_result",
          "data": {
            "text/plain": [
              "array([[0., 0., 0., ..., 0., 0., 0.],\n",
              "       [0., 0., 0., ..., 0., 0., 0.],\n",
              "       [0., 0., 0., ..., 0., 0., 0.],\n",
              "       ...,\n",
              "       [0., 0., 0., ..., 0., 0., 0.],\n",
              "       [0., 0., 0., ..., 0., 0., 0.],\n",
              "       [0., 0., 0., ..., 0., 0., 0.]], dtype=float32)"
            ]
          },
          "metadata": {},
          "execution_count": 168
        }
      ],
      "source": [
        "total_embeddings2"
      ]
    },
    {
      "cell_type": "code",
      "execution_count": null,
      "metadata": {
        "id": "x7AV1vABmJ4V"
      },
      "outputs": [],
      "source": [
        "agreements = train_slices['Agreement']\n",
        "radio_classes = [0, 1, 2, 3]\n",
        "radio_names = ['No Radiologist Agreement', 'Low Radiologist Agreement', 'High Radiologist Agreement', 'All Radiologists Agree']"
      ]
    },
    {
      "cell_type": "code",
      "source": [
        "\n",
        "# Fit centroids to dataset\n",
        "centers = 1\n",
        "kmeans = KMeans(n_clusters=centers)\n",
        "kmeans.fit(total_embeddings2)\n",
        "#centroid = kmeans.evaluate(df_feature)\n",
        "centroid = kmeans.centroids"
      ],
      "metadata": {
        "id": "SPZJTsiTppKd"
      },
      "execution_count": null,
      "outputs": []
    },
    {
      "cell_type": "code",
      "source": [
        "dist = kmeans.euclidean(centroid, total_embeddings2)"
      ],
      "metadata": {
        "id": "0i8aupiOsPp0"
      },
      "execution_count": null,
      "outputs": []
    },
    {
      "cell_type": "code",
      "source": [
        "df_distance = pd.DataFrame()"
      ],
      "metadata": {
        "id": "GOINaqxisVz2"
      },
      "execution_count": null,
      "outputs": []
    },
    {
      "cell_type": "code",
      "source": [
        "df_distance['InstanceID'] = train_slices['InstanceID']\n",
        "df_distance['Agreement'] = train_slices['Agreement_name']\n",
        "df_distance['Distance'] = dist\n",
        "display(df_distance)"
      ],
      "metadata": {
        "colab": {
          "base_uri": "https://localhost:8080/",
          "height": 419
        },
        "id": "nF64KO1BsY8P",
        "outputId": "606e606b-e860-4ffa-ece5-6e2647e123c1"
      },
      "execution_count": null,
      "outputs": [
        {
          "output_type": "display_data",
          "data": {
            "text/plain": [
              "      InstanceID                   Agreement  Distance\n",
              "0           4732   Low Radiologist Agreement  2.589693\n",
              "1          28743   Low Radiologist Agreement  1.679191\n",
              "2          24119   Low Radiologist Agreement  2.370908\n",
              "3          21366  High Radiologist Agreement  1.828614\n",
              "4          26447   All Radiologist Agreement  2.975571\n",
              "...          ...                         ...       ...\n",
              "1327       35200  High Radiologist Agreement  1.977530\n",
              "1328       39596  High Radiologist Agreement  2.251430\n",
              "1329       26626   Low Radiologist Agreement  2.381401\n",
              "1330        3308  High Radiologist Agreement  2.262417\n",
              "1331       38933   Low Radiologist Agreement  1.611235\n",
              "\n",
              "[1332 rows x 3 columns]"
            ],
            "text/html": [
              "\n",
              "  <div id=\"df-3e3e27e4-8efd-4bc9-982f-01de7665c18c\">\n",
              "    <div class=\"colab-df-container\">\n",
              "      <div>\n",
              "<style scoped>\n",
              "    .dataframe tbody tr th:only-of-type {\n",
              "        vertical-align: middle;\n",
              "    }\n",
              "\n",
              "    .dataframe tbody tr th {\n",
              "        vertical-align: top;\n",
              "    }\n",
              "\n",
              "    .dataframe thead th {\n",
              "        text-align: right;\n",
              "    }\n",
              "</style>\n",
              "<table border=\"1\" class=\"dataframe\">\n",
              "  <thead>\n",
              "    <tr style=\"text-align: right;\">\n",
              "      <th></th>\n",
              "      <th>InstanceID</th>\n",
              "      <th>Agreement</th>\n",
              "      <th>Distance</th>\n",
              "    </tr>\n",
              "  </thead>\n",
              "  <tbody>\n",
              "    <tr>\n",
              "      <th>0</th>\n",
              "      <td>4732</td>\n",
              "      <td>Low Radiologist Agreement</td>\n",
              "      <td>2.589693</td>\n",
              "    </tr>\n",
              "    <tr>\n",
              "      <th>1</th>\n",
              "      <td>28743</td>\n",
              "      <td>Low Radiologist Agreement</td>\n",
              "      <td>1.679191</td>\n",
              "    </tr>\n",
              "    <tr>\n",
              "      <th>2</th>\n",
              "      <td>24119</td>\n",
              "      <td>Low Radiologist Agreement</td>\n",
              "      <td>2.370908</td>\n",
              "    </tr>\n",
              "    <tr>\n",
              "      <th>3</th>\n",
              "      <td>21366</td>\n",
              "      <td>High Radiologist Agreement</td>\n",
              "      <td>1.828614</td>\n",
              "    </tr>\n",
              "    <tr>\n",
              "      <th>4</th>\n",
              "      <td>26447</td>\n",
              "      <td>All Radiologist Agreement</td>\n",
              "      <td>2.975571</td>\n",
              "    </tr>\n",
              "    <tr>\n",
              "      <th>...</th>\n",
              "      <td>...</td>\n",
              "      <td>...</td>\n",
              "      <td>...</td>\n",
              "    </tr>\n",
              "    <tr>\n",
              "      <th>1327</th>\n",
              "      <td>35200</td>\n",
              "      <td>High Radiologist Agreement</td>\n",
              "      <td>1.977530</td>\n",
              "    </tr>\n",
              "    <tr>\n",
              "      <th>1328</th>\n",
              "      <td>39596</td>\n",
              "      <td>High Radiologist Agreement</td>\n",
              "      <td>2.251430</td>\n",
              "    </tr>\n",
              "    <tr>\n",
              "      <th>1329</th>\n",
              "      <td>26626</td>\n",
              "      <td>Low Radiologist Agreement</td>\n",
              "      <td>2.381401</td>\n",
              "    </tr>\n",
              "    <tr>\n",
              "      <th>1330</th>\n",
              "      <td>3308</td>\n",
              "      <td>High Radiologist Agreement</td>\n",
              "      <td>2.262417</td>\n",
              "    </tr>\n",
              "    <tr>\n",
              "      <th>1331</th>\n",
              "      <td>38933</td>\n",
              "      <td>Low Radiologist Agreement</td>\n",
              "      <td>1.611235</td>\n",
              "    </tr>\n",
              "  </tbody>\n",
              "</table>\n",
              "<p>1332 rows × 3 columns</p>\n",
              "</div>\n",
              "      <button class=\"colab-df-convert\" onclick=\"convertToInteractive('df-3e3e27e4-8efd-4bc9-982f-01de7665c18c')\"\n",
              "              title=\"Convert this dataframe to an interactive table.\"\n",
              "              style=\"display:none;\">\n",
              "        \n",
              "  <svg xmlns=\"http://www.w3.org/2000/svg\" height=\"24px\"viewBox=\"0 0 24 24\"\n",
              "       width=\"24px\">\n",
              "    <path d=\"M0 0h24v24H0V0z\" fill=\"none\"/>\n",
              "    <path d=\"M18.56 5.44l.94 2.06.94-2.06 2.06-.94-2.06-.94-.94-2.06-.94 2.06-2.06.94zm-11 1L8.5 8.5l.94-2.06 2.06-.94-2.06-.94L8.5 2.5l-.94 2.06-2.06.94zm10 10l.94 2.06.94-2.06 2.06-.94-2.06-.94-.94-2.06-.94 2.06-2.06.94z\"/><path d=\"M17.41 7.96l-1.37-1.37c-.4-.4-.92-.59-1.43-.59-.52 0-1.04.2-1.43.59L10.3 9.45l-7.72 7.72c-.78.78-.78 2.05 0 2.83L4 21.41c.39.39.9.59 1.41.59.51 0 1.02-.2 1.41-.59l7.78-7.78 2.81-2.81c.8-.78.8-2.07 0-2.86zM5.41 20L4 18.59l7.72-7.72 1.47 1.35L5.41 20z\"/>\n",
              "  </svg>\n",
              "      </button>\n",
              "      \n",
              "  <style>\n",
              "    .colab-df-container {\n",
              "      display:flex;\n",
              "      flex-wrap:wrap;\n",
              "      gap: 12px;\n",
              "    }\n",
              "\n",
              "    .colab-df-convert {\n",
              "      background-color: #E8F0FE;\n",
              "      border: none;\n",
              "      border-radius: 50%;\n",
              "      cursor: pointer;\n",
              "      display: none;\n",
              "      fill: #1967D2;\n",
              "      height: 32px;\n",
              "      padding: 0 0 0 0;\n",
              "      width: 32px;\n",
              "    }\n",
              "\n",
              "    .colab-df-convert:hover {\n",
              "      background-color: #E2EBFA;\n",
              "      box-shadow: 0px 1px 2px rgba(60, 64, 67, 0.3), 0px 1px 3px 1px rgba(60, 64, 67, 0.15);\n",
              "      fill: #174EA6;\n",
              "    }\n",
              "\n",
              "    [theme=dark] .colab-df-convert {\n",
              "      background-color: #3B4455;\n",
              "      fill: #D2E3FC;\n",
              "    }\n",
              "\n",
              "    [theme=dark] .colab-df-convert:hover {\n",
              "      background-color: #434B5C;\n",
              "      box-shadow: 0px 1px 3px 1px rgba(0, 0, 0, 0.15);\n",
              "      filter: drop-shadow(0px 1px 2px rgba(0, 0, 0, 0.3));\n",
              "      fill: #FFFFFF;\n",
              "    }\n",
              "  </style>\n",
              "\n",
              "      <script>\n",
              "        const buttonEl =\n",
              "          document.querySelector('#df-3e3e27e4-8efd-4bc9-982f-01de7665c18c button.colab-df-convert');\n",
              "        buttonEl.style.display =\n",
              "          google.colab.kernel.accessAllowed ? 'block' : 'none';\n",
              "\n",
              "        async function convertToInteractive(key) {\n",
              "          const element = document.querySelector('#df-3e3e27e4-8efd-4bc9-982f-01de7665c18c');\n",
              "          const dataTable =\n",
              "            await google.colab.kernel.invokeFunction('convertToInteractive',\n",
              "                                                     [key], {});\n",
              "          if (!dataTable) return;\n",
              "\n",
              "          const docLinkHtml = 'Like what you see? Visit the ' +\n",
              "            '<a target=\"_blank\" href=https://colab.research.google.com/notebooks/data_table.ipynb>data table notebook</a>'\n",
              "            + ' to learn more about interactive tables.';\n",
              "          element.innerHTML = '';\n",
              "          dataTable['output_type'] = 'display_data';\n",
              "          await google.colab.output.renderOutput(dataTable, element);\n",
              "          const docLink = document.createElement('div');\n",
              "          docLink.innerHTML = docLinkHtml;\n",
              "          element.appendChild(docLink);\n",
              "        }\n",
              "      </script>\n",
              "    </div>\n",
              "  </div>\n",
              "  "
            ]
          },
          "metadata": {}
        }
      ]
    },
    {
      "cell_type": "code",
      "source": [
        "df_distance.to_csv(\"/content/drive/MyDrive/MedIx REU/Datasets/Amal/CNN/Spiculation/CNN_spic_var_distance.csv\")"
      ],
      "metadata": {
        "id": "s_HIHqyWsg4S"
      },
      "execution_count": null,
      "outputs": []
    },
    {
      "cell_type": "code",
      "source": [
        "plt.rcParams[\"figure.figsize\"] = [9.50, 7.50]\n",
        "plt.rcParams[\"figure.autolayout\"] = True\n",
        "#df.plot(figsize=(20,20))\n",
        "\n",
        "axes = df_distance.boxplot(by='Agreement',column =['Distance'], showmeans=True, showfliers=True, grid= False)\n",
        "axes.set_title('')\n",
        "plt.title('')\n",
        "plt.suptitle('')\n",
        "#plt.ylim([0.0, 1.0])\n",
        "plt.ylabel(\"Distance from the Centroid\", fontdict={'fontsize':15})\n",
        "plt.xlabel(\"Agreement\", fontdict={'fontsize':15})\n",
        "#plt.xticks([0,1, 2, 3],['No Radiologist Agreement', 'Low Radiologist Agreement', 'High Radiologist Agreement', 'All Radiologists Agree'])\n",
        "plt.show()"
      ],
      "metadata": {
        "colab": {
          "base_uri": "https://localhost:8080/",
          "height": 539
        },
        "id": "wz3gu-63srEv",
        "outputId": "230c02d2-4d44-4168-ddf3-84c2bb7c9ccc"
      },
      "execution_count": null,
      "outputs": [
        {
          "output_type": "display_data",
          "data": {
            "text/plain": [
              "<Figure size 684x540 with 1 Axes>"
            ],
            "image/png": "[encoded data removed]"
          },
          "metadata": {
            "needs_background": "light"
          }
        }
      ]
    },
    {
      "cell_type": "code",
      "source": [
        "m1 = df_distance.groupby(['Agreement'])['Distance'].mean().values\n",
        "print(m1)"
      ],
      "metadata": {
        "id": "VA9_TQswttm7",
        "outputId": "cbfb2dd6-47a6-4f54-a638-5fb877fc9e7f",
        "colab": {
          "base_uri": "https://localhost:8080/"
        }
      },
      "execution_count": null,
      "outputs": [
        {
          "output_type": "stream",
          "name": "stdout",
          "text": [
            "[2.1104763 2.0773711 2.132785  2.1698909]\n"
          ]
        }
      ]
    },
    {
      "cell_type": "code",
      "source": [
        "m2 = df_distance.groupby(['Agreement'])['Distance'].median().values\n",
        "print(m2)"
      ],
      "metadata": {
        "id": "ApiP8q8Htx-1",
        "outputId": "9e890f34-4949-47ec-958f-754e66bf0d53",
        "colab": {
          "base_uri": "https://localhost:8080/"
        }
      },
      "execution_count": null,
      "outputs": [
        {
          "output_type": "stream",
          "name": "stdout",
          "text": [
            "[2.031861  2.0104065 2.060419  2.1004255]\n"
          ]
        }
      ]
    }
  ],
  "metadata": {
    "accelerator": "GPU",
    "colab": {
      "machine_shape": "hm",
      "provenance": [],
      "mount_file_id": "17yD4cDMduSLFAi8oiqQflUBntWkrQCrV",
      "authorship_tag": "ABX9TyOA27ujFgV5bpOz4JMC6M66",
      "include_colab_link": true
    },
    "kernelspec": {
      "display_name": "Python 3",
      "name": "python3"
    },
    "language_info": {
      "name": "python"
    }
  },
  "nbformat": 4,
  "nbformat_minor": 0
}